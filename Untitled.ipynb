{
 "cells": [
  {
   "cell_type": "code",
   "execution_count": 1,
   "id": "5f413d69-07ee-4571-9420-c16789e16e91",
   "metadata": {},
   "outputs": [],
   "source": [
    "from pymongo import MongoClient\n",
    "from pprint import pprint\n",
    "import numpy as np\n",
    "import pandas as pd\n",
    "from scipy.stats import pearsonr\n",
    "import itertools\n",
    "import time\n",
    "import re"
   ]
  },
  {
   "cell_type": "code",
   "execution_count": 2,
   "id": "6bfddcfc-4e00-4e8e-a690-0ff6036d10c9",
   "metadata": {},
   "outputs": [],
   "source": [
    "re_ignore_upgrade = re.compile('\\+\\d+$')\n",
    "def ignore_upgrade(cardname: str) -> str:\n",
    "    return re.sub(re_ignore_upgrade, '', cardname)"
   ]
  },
  {
   "cell_type": "code",
   "execution_count": 34,
   "id": "7348c4fa-4cf9-4110-9f95-e06a5b5ea3be",
   "metadata": {},
   "outputs": [
    {
     "name": "stdout",
     "output_type": "stream",
     "text": [
      "num_runs 8577\n",
      "top cards\n",
      "Dualcast 8342\n",
      "Zap 8272\n",
      "Defend_B 7959\n",
      "Strike_B 6646\n",
      "AscendersBane 5653\n",
      "total cards 261\n",
      "total cards after removing those only appearing in <1% runs: 102 102\n"
     ]
    }
   ],
   "source": [
    "client = MongoClient('mongodb://localhost:27017')\n",
    "db = client.spire\n",
    "status = db.command('serverStatus')\n",
    "runs = db.runs\n",
    "\n",
    "search = {\n",
    "  # \"event.character_chosen\": \"THE_SILENT\",\n",
    "  \"event.character_chosen\": \"DEFECT\",\n",
    "  \"event.ascension_level\": {'$gte': 5},\n",
    "  \"event.floor_reached\": {'$gte': 18}\n",
    "}\n",
    "num_runs = runs.count_documents(search)\n",
    "print('num_runs', num_runs)\n",
    "\n",
    "result = runs.find(search)\n",
    "\n",
    "# count how many decks contain each card\n",
    "all_cards = {}\n",
    "deck_lists = {}\n",
    "for r in result:\n",
    "    # only count a card once per deck\n",
    "    unique_cards = {ignore_upgrade(card) for card in set(r['event']['master_deck'])}\n",
    "    for card in unique_cards:\n",
    "        if card in all_cards:\n",
    "            all_cards[card] += 1\n",
    "        else:\n",
    "            all_cards[card] = 1\n",
    "    deck_lists[r['event']['play_id']] = {ignore_upgrade(card) for card in set(r['event']['master_deck'])} # don't care about duplicates right now\n",
    "\n",
    "cards_by_freq = sorted(all_cards, key=all_cards.get, reverse=True)\n",
    "print('top cards')\n",
    "for card in cards_by_freq[:5]:\n",
    "    print(card, all_cards[card])\n",
    "print('total cards', len(all_cards))\n",
    "for card in list(all_cards.keys()):\n",
    "    if all_cards[card] < .01 * num_runs:\n",
    "        del all_cards[card]\n",
    "final_cards = set(all_cards.keys())\n",
    "print('total cards after removing those only appearing in <1% runs:',\n",
    "      len(all_cards),\n",
    "      len(final_cards))"
   ]
  },
  {
   "cell_type": "code",
   "execution_count": 35,
   "id": "0d0187b4-445b-4f9e-ac65-31f892f35517",
   "metadata": {
    "tags": []
   },
   "outputs": [
    {
     "name": "stdout",
     "output_type": "stream",
     "text": [
      "{'df_setup': 0.05119219499965766, 'df_fill': 1.097767105999992}\n",
      "                                      Sunder   Zap  Chaos  Doubt  \\\n",
      "cd37c1b7-f07c-44b2-9d83-f07914b71cc7    True  True   True   True   \n",
      "b6cd6a2a-dc38-482c-917b-049545e51982   False  True  False  False   \n",
      "fabb1dbd-f1b7-4faa-b737-0a3430451e23   False  True   True  False   \n",
      "5be1d399-16be-46d0-bc32-5644a2f010e2    True  True  False  False   \n",
      "6b793c68-b5ba-4faf-beed-22f6ee173681   False  True  False  False   \n",
      "...                                      ...   ...    ...    ...   \n",
      "e0c8b436-0ac7-4c92-969c-d8b729eb9207   False  True  False  False   \n",
      "63d1711b-3d50-446c-b23a-9b62a72d7136   False  True  False  False   \n",
      "8eb2e3c6-e370-4862-aa95-04ee836147d2   False  True  False  False   \n",
      "1b6d8ecf-c6ba-4c69-b144-210b84fe7c86   False  True  False  False   \n",
      "55937f5f-e43d-4154-8f57-4be9a8d5604e   False  True   True  False   \n",
      "\n",
      "                                      AscendersBane  Electrodynamics  \\\n",
      "cd37c1b7-f07c-44b2-9d83-f07914b71cc7           True             True   \n",
      "b6cd6a2a-dc38-482c-917b-049545e51982           True             True   \n",
      "fabb1dbd-f1b7-4faa-b737-0a3430451e23           True            False   \n",
      "5be1d399-16be-46d0-bc32-5644a2f010e2          False            False   \n",
      "6b793c68-b5ba-4faf-beed-22f6ee173681           True             True   \n",
      "...                                             ...              ...   \n",
      "e0c8b436-0ac7-4c92-969c-d8b729eb9207           True            False   \n",
      "63d1711b-3d50-446c-b23a-9b62a72d7136          False            False   \n",
      "8eb2e3c6-e370-4862-aa95-04ee836147d2          False             True   \n",
      "1b6d8ecf-c6ba-4c69-b144-210b84fe7c86           True             True   \n",
      "55937f5f-e43d-4154-8f57-4be9a8d5604e           True            False   \n",
      "\n",
      "                                      Coolheaded  Blizzard   Loop  Glacier  \\\n",
      "cd37c1b7-f07c-44b2-9d83-f07914b71cc7        True      True   True     True   \n",
      "b6cd6a2a-dc38-482c-917b-049545e51982       False     False  False    False   \n",
      "fabb1dbd-f1b7-4faa-b737-0a3430451e23        True      True  False     True   \n",
      "5be1d399-16be-46d0-bc32-5644a2f010e2        True      True  False     True   \n",
      "6b793c68-b5ba-4faf-beed-22f6ee173681       False     False   True     True   \n",
      "...                                          ...       ...    ...      ...   \n",
      "e0c8b436-0ac7-4c92-969c-d8b729eb9207       False     False   True    False   \n",
      "63d1711b-3d50-446c-b23a-9b62a72d7136        True     False   True     True   \n",
      "8eb2e3c6-e370-4862-aa95-04ee836147d2        True     False  False    False   \n",
      "1b6d8ecf-c6ba-4c69-b144-210b84fe7c86       False     False   True    False   \n",
      "55937f5f-e43d-4154-8f57-4be9a8d5604e       False     False   True    False   \n",
      "\n",
      "                                      ...  Injury  Master of Strategy  \\\n",
      "cd37c1b7-f07c-44b2-9d83-f07914b71cc7  ...   False               False   \n",
      "b6cd6a2a-dc38-482c-917b-049545e51982  ...   False               False   \n",
      "fabb1dbd-f1b7-4faa-b737-0a3430451e23  ...   False               False   \n",
      "5be1d399-16be-46d0-bc32-5644a2f010e2  ...   False               False   \n",
      "6b793c68-b5ba-4faf-beed-22f6ee173681  ...   False               False   \n",
      "...                                   ...     ...                 ...   \n",
      "e0c8b436-0ac7-4c92-969c-d8b729eb9207  ...   False               False   \n",
      "63d1711b-3d50-446c-b23a-9b62a72d7136  ...   False               False   \n",
      "8eb2e3c6-e370-4862-aa95-04ee836147d2  ...   False               False   \n",
      "1b6d8ecf-c6ba-4c69-b144-210b84fe7c86  ...   False               False   \n",
      "55937f5f-e43d-4154-8f57-4be9a8d5604e  ...   False               False   \n",
      "\n",
      "                                      Rip and Tear  Decay  Blind  \\\n",
      "cd37c1b7-f07c-44b2-9d83-f07914b71cc7         False  False  False   \n",
      "b6cd6a2a-dc38-482c-917b-049545e51982         False  False  False   \n",
      "fabb1dbd-f1b7-4faa-b737-0a3430451e23         False  False  False   \n",
      "5be1d399-16be-46d0-bc32-5644a2f010e2         False  False  False   \n",
      "6b793c68-b5ba-4faf-beed-22f6ee173681         False  False  False   \n",
      "...                                            ...    ...    ...   \n",
      "e0c8b436-0ac7-4c92-969c-d8b729eb9207         False  False  False   \n",
      "63d1711b-3d50-446c-b23a-9b62a72d7136         False  False  False   \n",
      "8eb2e3c6-e370-4862-aa95-04ee836147d2         False  False  False   \n",
      "1b6d8ecf-c6ba-4c69-b144-210b84fe7c86          True  False  False   \n",
      "55937f5f-e43d-4154-8f57-4be9a8d5604e         False  False  False   \n",
      "\n",
      "                                      Flash of Steel  Discovery  Mayhem  \\\n",
      "cd37c1b7-f07c-44b2-9d83-f07914b71cc7           False      False   False   \n",
      "b6cd6a2a-dc38-482c-917b-049545e51982           False      False   False   \n",
      "fabb1dbd-f1b7-4faa-b737-0a3430451e23           False      False   False   \n",
      "5be1d399-16be-46d0-bc32-5644a2f010e2           False      False   False   \n",
      "6b793c68-b5ba-4faf-beed-22f6ee173681           False      False   False   \n",
      "...                                              ...        ...     ...   \n",
      "e0c8b436-0ac7-4c92-969c-d8b729eb9207           False      False   False   \n",
      "63d1711b-3d50-446c-b23a-9b62a72d7136            True      False   False   \n",
      "8eb2e3c6-e370-4862-aa95-04ee836147d2           False      False   False   \n",
      "1b6d8ecf-c6ba-4c69-b144-210b84fe7c86           False      False   False   \n",
      "55937f5f-e43d-4154-8f57-4be9a8d5604e           False      False   False   \n",
      "\n",
      "                                      Parasite  Panache  \n",
      "cd37c1b7-f07c-44b2-9d83-f07914b71cc7     False    False  \n",
      "b6cd6a2a-dc38-482c-917b-049545e51982     False    False  \n",
      "fabb1dbd-f1b7-4faa-b737-0a3430451e23     False    False  \n",
      "5be1d399-16be-46d0-bc32-5644a2f010e2     False    False  \n",
      "6b793c68-b5ba-4faf-beed-22f6ee173681     False    False  \n",
      "...                                        ...      ...  \n",
      "e0c8b436-0ac7-4c92-969c-d8b729eb9207     False    False  \n",
      "63d1711b-3d50-446c-b23a-9b62a72d7136     False    False  \n",
      "8eb2e3c6-e370-4862-aa95-04ee836147d2     False    False  \n",
      "1b6d8ecf-c6ba-4c69-b144-210b84fe7c86     False    False  \n",
      "55937f5f-e43d-4154-8f57-4be9a8d5604e     False    False  \n",
      "\n",
      "[8577 rows x 102 columns]\n"
     ]
    }
   ],
   "source": [
    "# print(deck_lists)\n",
    "# all_cards\n",
    "timings = {}\n",
    "t1 = time.perf_counter()\n",
    "df = pd.DataFrame(columns=all_cards, index=deck_lists.keys())\n",
    "timings['df_setup'] = time.perf_counter() - t1\n",
    "t1 = time.perf_counter()\n",
    "\n",
    "for play_id, dl in deck_lists.items():\n",
    "    df.loc[play_id] = [(card in dl) for card in df.columns]\n",
    "timings['df_fill'] = time.perf_counter() - t1\n",
    "print(timings)\n",
    "df.fillna(False, inplace = True)\n",
    "print(df)"
   ]
  },
  {
   "cell_type": "code",
   "execution_count": 36,
   "id": "20a0b122-0364-4fbf-a2f3-b8a1f759f667",
   "metadata": {},
   "outputs": [
    {
     "data": {
      "text/plain": [
       "102"
      ]
     },
     "execution_count": 36,
     "metadata": {},
     "output_type": "execute_result"
    }
   ],
   "source": [
    "len(df.columns.tolist())"
   ]
  },
  {
   "cell_type": "code",
   "execution_count": 37,
   "id": "beb425d2-c625-4e5e-92dd-4d66d263e7ba",
   "metadata": {},
   "outputs": [
    {
     "data": {
      "text/plain": [
       "Sunder            bool\n",
       "Zap               bool\n",
       "Chaos             bool\n",
       "Doubt             bool\n",
       "AscendersBane     bool\n",
       "                  ... \n",
       "Flash of Steel    bool\n",
       "Discovery         bool\n",
       "Mayhem            bool\n",
       "Parasite          bool\n",
       "Panache           bool\n",
       "Length: 102, dtype: object"
      ]
     },
     "execution_count": 37,
     "metadata": {},
     "output_type": "execute_result"
    }
   ],
   "source": [
    "df.dtypes"
   ]
  },
  {
   "cell_type": "code",
   "execution_count": 38,
   "id": "9a506ba5-015f-4880-afd5-de52afc4012e",
   "metadata": {},
   "outputs": [
    {
     "name": "stdout",
     "output_type": "stream",
     "text": [
      "['Sunder', 'Zap', 'Chaos', 'Doubt', 'AscendersBane', 'Electrodynamics', 'Coolheaded', 'Blizzard', 'Loop', 'Glacier', 'BootSequence', 'Genetic Algorithm', 'Dualcast', 'Defend_B', 'Turbo', 'Ball Lightning', 'Doom and Gloom', 'Self Repair', 'Steam', 'Conserve Battery', 'Strike_B', 'Streamline', 'Double Energy', 'HandOfGreed', 'Melter', 'Rebound', 'Hologram', 'Buffer', 'Thunder Strike', 'Meteor Strike', 'Capacitor', 'Storm', 'Static Discharge', 'Creative AI', 'Apotheosis', 'Go for the Eyes', 'Barrage', 'Redo', 'Sweeping Beam', 'All For One', 'Cold Snap', 'Steam Power', 'Chill', 'Tempest', 'Force Field', 'Heatsinks', 'White Noise', 'Biased Cognition', 'Echo Form', 'Machine Learning', 'Skim', 'Compile Driver', 'Consume', 'Gash', 'FTL', 'CurseOfTheBell', 'Beam Cell', 'Core Surge', 'Reinforced Body', 'Reboot', 'Leap', 'Shame', 'Hyperbeam', 'Scrape', 'Multi-Cast', 'Recycle', 'Defragment', 'Fission', 'Darkness', 'Lockon', 'Dark Shackles', 'Auto Shields', 'Bite', 'Seek', 'Stack', 'Rainbow', 'Amplify', 'Fusion', 'Aggregate', 'Hello World', 'Undo', 'Panacea', 'Writhe', 'Bandage Up', 'Necronomicurse', 'Regret', 'Ghostly', 'Madness', 'Pain', 'Reprogram', 'RitualDagger', 'Finesse', 'Injury', 'Master of Strategy', 'Rip and Tear', 'Decay', 'Blind', 'Flash of Steel', 'Discovery', 'Mayhem', 'Parasite', 'Panache']\n",
      "                                   PCC        p-value\n",
      "Defend_B__Strike_B            0.492127   0.000000e+00\n",
      "Zap__Dualcast                 0.322584  6.628717e-207\n",
      "Gash__Scrape                  0.262906  1.404197e-135\n",
      "All For One__Gash             0.256700  3.956847e-129\n",
      "Gash__Beam Cell               0.248344  1.011927e-120\n",
      "Go for the Eyes__Beam Cell    0.224414   2.312621e-98\n",
      "Storm__Heatsinks              0.218082   7.287487e-93\n",
      "All For One__Beam Cell        0.217807   1.250539e-92\n",
      "Beam Cell__Scrape             0.198388   7.413096e-77\n",
      "Go for the Eyes__Gash         0.196187   3.605445e-75\n",
      "Storm__Force Field            0.177549   1.099243e-61\n",
      "All For One__Scrape           0.168542   1.114311e-55\n",
      "Go for the Eyes__Scrape       0.166214   3.518165e-54\n",
      "Go for the Eyes__All For One  0.158314   2.951141e-49\n",
      "Blizzard__Glacier             0.157793   6.107510e-49\n",
      "Blizzard__Cold Snap           0.157564   8.404349e-49\n",
      "FTL__Beam Cell                0.156027   7.065583e-48\n",
      "All For One__FTL              0.152092   1.487408e-45\n",
      "Gash__FTL                     0.151977   1.735076e-45\n",
      "Storm__Amplify                0.150764   8.769613e-45\n",
      "Zap__Strike_B                 0.148221   2.501849e-43\n",
      "Storm__Static Discharge       0.144952   1.703429e-41\n",
      "Coolheaded__Blizzard          0.144244   4.195057e-41\n",
      "Scrape__Reprogram             0.137222   2.507331e-37\n",
      "Force Field__Heatsinks        0.134289   8.302343e-36\n",
      "FTL__Scrape                   0.134141   9.882568e-36\n",
      "Steam__Go for the Eyes        0.133795   1.484778e-35\n",
      "Steam__Beam Cell              0.133465   2.188621e-35\n",
      "Capacitor__Consume            0.131589   1.943381e-34\n",
      "Redo__Darkness                0.128706   5.241519e-33\n"
     ]
    }
   ],
   "source": [
    "correlations = {}\n",
    "cards = df.columns.tolist()\n",
    "print(cards)\n",
    "for card_a, card_b in itertools.combinations(cards, 2):\n",
    "    correlations[card_a + '__' + card_b] = pearsonr(df.loc[:, card_a], df.loc[:, card_b])\n",
    "\n",
    "result = pd.DataFrame.from_dict(correlations, orient = 'index')\n",
    "result.columns = ['PCC', 'p-value']\n",
    "print(result.sort_values(by='PCC', ascending=False).head(30))"
   ]
  },
  {
   "cell_type": "code",
   "execution_count": null,
   "id": "9b1e1098-360d-4999-a0aa-961d3bf7cd76",
   "metadata": {},
   "outputs": [],
   "source": []
  }
 ],
 "metadata": {
  "kernelspec": {
   "display_name": "Python 3 (ipykernel)",
   "language": "python",
   "name": "python3"
  },
  "language_info": {
   "codemirror_mode": {
    "name": "ipython",
    "version": 3
   },
   "file_extension": ".py",
   "mimetype": "text/x-python",
   "name": "python",
   "nbconvert_exporter": "python",
   "pygments_lexer": "ipython3",
   "version": "3.8.10"
  }
 },
 "nbformat": 4,
 "nbformat_minor": 5
}
