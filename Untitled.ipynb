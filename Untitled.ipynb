{
 "cells": [
  {
   "cell_type": "code",
   "execution_count": 30,
   "id": "5f413d69-07ee-4571-9420-c16789e16e91",
   "metadata": {},
   "outputs": [],
   "source": [
    "from pymongo import MongoClient\n",
    "from pprint import pprint\n",
    "import numpy as np\n",
    "import pandas as pd\n",
    "from scipy.stats import pearsonr\n",
    "import itertools\n",
    "import time\n",
    "import re"
   ]
  },
  {
   "cell_type": "code",
   "execution_count": 31,
   "id": "6bfddcfc-4e00-4e8e-a690-0ff6036d10c9",
   "metadata": {},
   "outputs": [],
   "source": [
    "re_ignore_upgrade = re.compile('\\+\\d+$')\n",
    "def ignore_upgrade(cardname: str) -> str:\n",
    "    return re.sub(re_ignore_upgrade, '', cardname)"
   ]
  },
  {
   "cell_type": "code",
   "execution_count": 33,
   "id": "7348c4fa-4cf9-4110-9f95-e06a5b5ea3be",
   "metadata": {},
   "outputs": [
    {
     "name": "stdout",
     "output_type": "stream",
     "text": [
      "num_runs 1317\n",
      "top cards\n",
      "Bash 1252\n",
      "Defend_R 1220\n",
      "Strike_R 1114\n",
      "AscendersBane 882\n",
      "Shrug It Off 664\n",
      "total cards 150\n",
      "total cards after removing those only appearing in <1% runs: 107 107\n"
     ]
    }
   ],
   "source": [
    "client = MongoClient('mongodb://localhost:27017')\n",
    "db = client.spire\n",
    "status = db.command('serverStatus')\n",
    "runs = db.runs\n",
    "\n",
    "search = {\n",
    "  \"event.character_chosen\": \"IRONCLAD\",\n",
    "  \"event.ascension_level\": {'$gte': 5},\n",
    "  \"event.floor_reached\": {'$gte': 18}\n",
    "}\n",
    "num_runs = runs.count_documents(search)\n",
    "print('num_runs', num_runs)\n",
    "\n",
    "result = runs.find(search)\n",
    "\n",
    "# count how many decks contain each card\n",
    "all_cards = {}\n",
    "deck_lists = {}\n",
    "for r in result:\n",
    "    # only count a card once per deck\n",
    "    unique_cards = {ignore_upgrade(card) for card in set(r['event']['master_deck'])}\n",
    "    for card in unique_cards:\n",
    "        if card in all_cards:\n",
    "            all_cards[card] += 1\n",
    "        else:\n",
    "            all_cards[card] = 1\n",
    "    deck_lists[r['event']['play_id']] = {ignore_upgrade(card) for card in set(r['event']['master_deck'])} # don't care about duplicates right now\n",
    "\n",
    "cards_by_freq = sorted(all_cards, key=all_cards.get, reverse=True)\n",
    "print('top cards')\n",
    "for card in cards_by_freq[:5]:\n",
    "    print(card, all_cards[card])\n",
    "print('total cards', len(all_cards))\n",
    "for card in list(all_cards.keys()):\n",
    "    if all_cards[card] < .01 * num_runs:\n",
    "        del all_cards[card]\n",
    "final_cards = set(all_cards.keys())\n",
    "print('total cards after removing those only appearing in <1% runs:',\n",
    "      len(all_cards),\n",
    "      len(final_cards))"
   ]
  },
  {
   "cell_type": "code",
   "execution_count": 34,
   "id": "0d0187b4-445b-4f9e-ac65-31f892f35517",
   "metadata": {
    "tags": []
   },
   "outputs": [
    {
     "name": "stdout",
     "output_type": "stream",
     "text": [
      "{'df_setup': 0.09749611699953675, 'df_fill': 1.3780862389830872}\n",
      "                                      Heavy Blade  AscendersBane  Body Slam  \\\n",
      "be781d3b-6cde-47fc-b900-97f35e064001         True           True       True   \n",
      "349582b6-8695-499d-9657-1254b033e67c         True          False       True   \n",
      "e04e2e20-73c4-41fb-84fc-71de9bf6ec08         True           True      False   \n",
      "a099980f-9728-4369-b15b-01b9bb718389        False           True      False   \n",
      "734202ac-d6ce-4379-a3f6-69082c8881c5        False           True      False   \n",
      "...                                           ...            ...        ...   \n",
      "4f820fd2-2902-477f-9df5-fd7b5208d8f7        False           True      False   \n",
      "211231a2-9280-4758-a5d9-11b3421fcef7         True          False      False   \n",
      "075f7766-4fd1-447e-894d-3b95dd8da86b         True           True      False   \n",
      "aac5afef-1f87-48b6-a9c0-f9f9f649e228         True          False      False   \n",
      "ca186d9f-c0ac-460d-84c7-7812f520115a         True           True      False   \n",
      "\n",
      "                                      Berserk  Dropkick  Defend_R   Feed  \\\n",
      "be781d3b-6cde-47fc-b900-97f35e064001     True      True      True   True   \n",
      "349582b6-8695-499d-9657-1254b033e67c    False     False      True   True   \n",
      "e04e2e20-73c4-41fb-84fc-71de9bf6ec08    False      True      True  False   \n",
      "a099980f-9728-4369-b15b-01b9bb718389    False     False      True  False   \n",
      "734202ac-d6ce-4379-a3f6-69082c8881c5    False     False      True  False   \n",
      "...                                       ...       ...       ...    ...   \n",
      "4f820fd2-2902-477f-9df5-fd7b5208d8f7     True     False      True  False   \n",
      "211231a2-9280-4758-a5d9-11b3421fcef7    False     False      True  False   \n",
      "075f7766-4fd1-447e-894d-3b95dd8da86b    False     False      True  False   \n",
      "aac5afef-1f87-48b6-a9c0-f9f9f649e228    False     False      True  False   \n",
      "ca186d9f-c0ac-460d-84c7-7812f520115a    False     False      True  False   \n",
      "\n",
      "                                      Double Tap   Bash  Ghostly Armor  ...  \\\n",
      "be781d3b-6cde-47fc-b900-97f35e064001        True   True           True  ...   \n",
      "349582b6-8695-499d-9657-1254b033e67c       False   True          False  ...   \n",
      "e04e2e20-73c4-41fb-84fc-71de9bf6ec08        True   True           True  ...   \n",
      "a099980f-9728-4369-b15b-01b9bb718389       False   True          False  ...   \n",
      "734202ac-d6ce-4379-a3f6-69082c8881c5       False   True           True  ...   \n",
      "...                                          ...    ...            ...  ...   \n",
      "4f820fd2-2902-477f-9df5-fd7b5208d8f7       False   True           True  ...   \n",
      "211231a2-9280-4758-a5d9-11b3421fcef7       False   True          False  ...   \n",
      "075f7766-4fd1-447e-894d-3b95dd8da86b       False  False          False  ...   \n",
      "aac5afef-1f87-48b6-a9c0-f9f9f649e228       False   True          False  ...   \n",
      "ca186d9f-c0ac-460d-84c7-7812f520115a       False   True          False  ...   \n",
      "\n",
      "                                      Enlightenment  Clumsy  Discovery  \\\n",
      "be781d3b-6cde-47fc-b900-97f35e064001          False   False      False   \n",
      "349582b6-8695-499d-9657-1254b033e67c          False   False      False   \n",
      "e04e2e20-73c4-41fb-84fc-71de9bf6ec08          False   False      False   \n",
      "a099980f-9728-4369-b15b-01b9bb718389          False   False      False   \n",
      "734202ac-d6ce-4379-a3f6-69082c8881c5          False   False      False   \n",
      "...                                             ...     ...        ...   \n",
      "4f820fd2-2902-477f-9df5-fd7b5208d8f7          False   False      False   \n",
      "211231a2-9280-4758-a5d9-11b3421fcef7          False   False      False   \n",
      "075f7766-4fd1-447e-894d-3b95dd8da86b          False   False      False   \n",
      "aac5afef-1f87-48b6-a9c0-f9f9f649e228          False   False      False   \n",
      "ca186d9f-c0ac-460d-84c7-7812f520115a          False   False      False   \n",
      "\n",
      "                                      Injury  Dark Shackles  Doubt  Finesse  \\\n",
      "be781d3b-6cde-47fc-b900-97f35e064001   False          False  False    False   \n",
      "349582b6-8695-499d-9657-1254b033e67c   False          False  False    False   \n",
      "e04e2e20-73c4-41fb-84fc-71de9bf6ec08   False          False  False    False   \n",
      "a099980f-9728-4369-b15b-01b9bb718389   False          False  False    False   \n",
      "734202ac-d6ce-4379-a3f6-69082c8881c5   False          False  False    False   \n",
      "...                                      ...            ...    ...      ...   \n",
      "4f820fd2-2902-477f-9df5-fd7b5208d8f7   False          False  False    False   \n",
      "211231a2-9280-4758-a5d9-11b3421fcef7   False          False  False    False   \n",
      "075f7766-4fd1-447e-894d-3b95dd8da86b    True          False  False    False   \n",
      "aac5afef-1f87-48b6-a9c0-f9f9f649e228   False          False  False    False   \n",
      "ca186d9f-c0ac-460d-84c7-7812f520115a   False          False  False    False   \n",
      "\n",
      "                                      J.A.X.  Bandage Up  The Bomb  \n",
      "be781d3b-6cde-47fc-b900-97f35e064001   False       False     False  \n",
      "349582b6-8695-499d-9657-1254b033e67c   False       False     False  \n",
      "e04e2e20-73c4-41fb-84fc-71de9bf6ec08   False       False     False  \n",
      "a099980f-9728-4369-b15b-01b9bb718389   False       False     False  \n",
      "734202ac-d6ce-4379-a3f6-69082c8881c5   False       False     False  \n",
      "...                                      ...         ...       ...  \n",
      "4f820fd2-2902-477f-9df5-fd7b5208d8f7   False       False      True  \n",
      "211231a2-9280-4758-a5d9-11b3421fcef7   False       False     False  \n",
      "075f7766-4fd1-447e-894d-3b95dd8da86b   False       False     False  \n",
      "aac5afef-1f87-48b6-a9c0-f9f9f649e228   False       False     False  \n",
      "ca186d9f-c0ac-460d-84c7-7812f520115a   False       False     False  \n",
      "\n",
      "[1317 rows x 107 columns]\n"
     ]
    }
   ],
   "source": [
    "# print(deck_lists)\n",
    "# all_cards\n",
    "timings = {}\n",
    "t1 = time.perf_counter()\n",
    "df = pd.DataFrame(columns=all_cards, index=deck_lists.keys())\n",
    "timings['df_setup'] = time.perf_counter() - t1\n",
    "t1 = time.perf_counter()\n",
    "\n",
    "for play_id, dl in deck_lists.items():\n",
    "    for card in dl.intersection(final_cards):\n",
    "        df.loc[play_id][card] = True\n",
    "timings['df_fill'] = time.perf_counter() - t1\n",
    "print(timings)\n",
    "df.fillna(False, inplace = True)\n",
    "print(df)"
   ]
  },
  {
   "cell_type": "code",
   "execution_count": 35,
   "id": "20a0b122-0364-4fbf-a2f3-b8a1f759f667",
   "metadata": {},
   "outputs": [
    {
     "data": {
      "text/plain": [
       "107"
      ]
     },
     "execution_count": 35,
     "metadata": {},
     "output_type": "execute_result"
    }
   ],
   "source": [
    "len(df.columns.tolist())"
   ]
  },
  {
   "cell_type": "code",
   "execution_count": 36,
   "id": "9a506ba5-015f-4880-afd5-de52afc4012e",
   "metadata": {},
   "outputs": [
    {
     "name": "stdout",
     "output_type": "stream",
     "text": [
      "['Heavy Blade', 'AscendersBane', 'Body Slam', 'Berserk', 'Dropkick', 'Defend_R', 'Feed', 'Double Tap', 'Bash', 'Ghostly Armor', 'Mayhem', 'Madness', 'Strike_R', 'Disarm', 'Rampage', 'Apotheosis', 'Impervious', 'Shockwave', 'Demon Form', 'Whirlwind', 'Inflame', 'Barricade', 'Clash', 'Flex', 'Shrug It Off', 'Armaments', 'Seeing Red', 'Infernal Blade', 'Rage', 'Bloodletting', 'Reaper', 'Perfected Strike', 'Sword Boomerang', 'Wild Strike', 'Iron Wave', 'Sever Soul', 'Uppercut', 'Clothesline', 'Immolate', 'CurseOfTheBell', 'Cleave', 'True Grit', 'Thunderclap', 'Corruption', 'Second Wind', 'Twin Strike', 'Battle Trance', 'Dual Wield', 'Headbutt', 'Rupture', 'Blood for Blood', 'Offering', 'Ghostly', 'Limit Break', 'Carnage', 'Sentinel', 'Pummel', 'Dark Embrace', 'Havoc', 'Metallicize', 'Fiend Fire', 'Pommel Strike', 'Burning Pact', 'Flame Barrier', 'Warcry', 'Reckless Charge', 'RitualDagger', 'Searing Blow', 'Power Through', 'Bite', 'HandOfGreed', 'Feel No Pain', 'Entrench', 'Necronomicurse', 'Fire Breathing', 'Brutality', 'Hemokinesis', 'Exhume', 'Spot Weakness', 'Juggernaut', 'Intimidate', 'Bludgeon', 'Anger', 'Pain', 'Evolve', 'Combust', 'Swift Strike', 'Writhe', 'Decay', 'Regret', 'Parasite', 'Shame', 'Master of Strategy', 'Panacea', 'Trip', 'Flash of Steel', 'Normality', 'Enlightenment', 'Clumsy', 'Discovery', 'Injury', 'Dark Shackles', 'Doubt', 'Finesse', 'J.A.X.', 'Bandage Up', 'The Bomb']\n",
      "                                        PCC       p-value\n",
      "Defend_R__Strike_R                 0.531732  5.291577e-97\n",
      "Dark Embrace__Feel No Pain         0.261724  4.551019e-22\n",
      "Body Slam__Entrench                0.261184  5.564769e-22\n",
      "Body Slam__Barricade               0.254548  6.358480e-21\n",
      "Barricade__Entrench                0.239507  1.227955e-18\n",
      "Rupture__Brutality                 0.225311  1.279051e-16\n",
      "Second Wind__Dark Embrace          0.221302  4.493458e-16\n",
      "Corruption__Dark Embrace           0.210482  1.183067e-14\n",
      "Body Slam__Juggernaut              0.210277  1.256468e-14\n",
      "Reckless Charge__Fire Breathing    0.204728  6.274432e-14\n",
      "Power Through__Fire Breathing      0.203373  9.228586e-14\n",
      "Perfected Strike__Twin Strike      0.203085  1.001255e-13\n",
      "Power Through__Evolve              0.203063  1.007696e-13\n",
      "True Grit__Feel No Pain            0.195854  7.474870e-13\n",
      "Wild Strike__Fire Breathing        0.191269  2.571330e-12\n",
      "Rupture__Combust                   0.191166  2.642865e-12\n",
      "Wild Strike__Evolve                0.185059  1.305475e-11\n",
      "Madness__Dark Shackles             0.183547  1.922632e-11\n",
      "Rupture__Hemokinesis               0.181633  3.124439e-11\n",
      "Corruption__Sentinel               0.179512  5.316913e-11\n",
      "Corruption__Feel No Pain           0.175405  1.462542e-10\n",
      "Fire Breathing__Evolve             0.175105  1.572976e-10\n",
      "Clash__Flex                        0.174816  1.687360e-10\n",
      "Heavy Blade__Demon Form            0.174488  1.827354e-10\n",
      "Master of Strategy__Dark Shackles  0.173041  2.590088e-10\n",
      "Feel No Pain__Exhume               0.172521  2.933683e-10\n",
      "Sentinel__Warcry                   0.172193  3.173493e-10\n",
      "Perfected Strike__Pommel Strike    0.171327  3.900766e-10\n",
      "Heavy Blade__Flex                  0.168764  7.138948e-10\n",
      "Feel No Pain__Evolve               0.167206  1.026258e-09\n"
     ]
    }
   ],
   "source": [
    "correlations = {}\n",
    "cards = df.columns.tolist()\n",
    "print(cards)\n",
    "for card_a, card_b in itertools.combinations(cards, 2):\n",
    "    correlations[card_a + '__' + card_b] = pearsonr(df.loc[:, card_a], df.loc[:, card_b])\n",
    "\n",
    "result = pd.DataFrame.from_dict(correlations, orient = 'index')\n",
    "result.columns = ['PCC', 'p-value']\n",
    "print(result.sort_values(by='PCC', ascending=False).head(30))"
   ]
  },
  {
   "cell_type": "code",
   "execution_count": null,
   "id": "9b1e1098-360d-4999-a0aa-961d3bf7cd76",
   "metadata": {},
   "outputs": [],
   "source": []
  }
 ],
 "metadata": {
  "kernelspec": {
   "display_name": "Python 3 (ipykernel)",
   "language": "python",
   "name": "python3"
  },
  "language_info": {
   "codemirror_mode": {
    "name": "ipython",
    "version": 3
   },
   "file_extension": ".py",
   "mimetype": "text/x-python",
   "name": "python",
   "nbconvert_exporter": "python",
   "pygments_lexer": "ipython3",
   "version": "3.8.10"
  }
 },
 "nbformat": 4,
 "nbformat_minor": 5
}
