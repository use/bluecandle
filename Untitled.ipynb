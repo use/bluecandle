{
 "cells": [
  {
   "cell_type": "code",
   "execution_count": 1,
   "id": "5f413d69-07ee-4571-9420-c16789e16e91",
   "metadata": {},
   "outputs": [],
   "source": [
    "from pymongo import MongoClient\n",
    "from pprint import pprint\n",
    "import numpy as np\n",
    "import pandas as pd\n",
    "from scipy.stats import pearsonr\n",
    "import itertools\n",
    "import time\n",
    "import re"
   ]
  },
  {
   "cell_type": "code",
   "execution_count": 2,
   "id": "6bfddcfc-4e00-4e8e-a690-0ff6036d10c9",
   "metadata": {},
   "outputs": [],
   "source": [
    "re_ignore_upgrade = re.compile('\\+\\d+$')\n",
    "def ignore_upgrade(cardname: str) -> str:\n",
    "    return re.sub(re_ignore_upgrade, '', cardname)"
   ]
  },
  {
   "cell_type": "code",
   "execution_count": 42,
   "id": "7348c4fa-4cf9-4110-9f95-e06a5b5ea3be",
   "metadata": {},
   "outputs": [
    {
     "name": "stdout",
     "output_type": "stream",
     "text": [
      "num_runs 11531\n",
      "top cards\n",
      "Bash 10878\n",
      "Defend_R 10742\n",
      "Strike_R 9795\n",
      "AscendersBane 7921\n",
      "Shrug It Off 5644\n",
      "total cards 282\n",
      "total cards after removing those only appearing in <1% runs: 105 105\n"
     ]
    }
   ],
   "source": [
    "client = MongoClient('mongodb://localhost:27017')\n",
    "db = client.spire\n",
    "status = db.command('serverStatus')\n",
    "runs = db.runs\n",
    "\n",
    "search = {\n",
    "  # \"event.character_chosen\": \"THE_SILENT\",\n",
    "  \"event.character_chosen\": \"IRONCLAD\",\n",
    "  \"event.ascension_level\": {'$gte': 5},\n",
    "  \"event.floor_reached\": {'$gte': 18}\n",
    "}\n",
    "num_runs = runs.count_documents(search)\n",
    "print('num_runs', num_runs)\n",
    "\n",
    "result = runs.find(search)\n",
    "\n",
    "# count how many decks contain each card\n",
    "# ignore card upgrades\n",
    "all_cards = {}\n",
    "deck_lists = {}\n",
    "for r in result:\n",
    "    # only count a card once per deck\n",
    "    unique_cards = {ignore_upgrade(card) for card in set(r['event']['master_deck'])}\n",
    "    for card in unique_cards:\n",
    "        if card in all_cards:\n",
    "            all_cards[card] += 1\n",
    "        else:\n",
    "            all_cards[card] = 1\n",
    "    deck_lists[r['event']['play_id']] = {ignore_upgrade(card) for card in set(r['event']['master_deck'])} # don't care about duplicates right now\n",
    "\n",
    "# check the top cards\n",
    "cards_by_freq = sorted(all_cards, key=all_cards.get, reverse=True)\n",
    "print('top cards')\n",
    "for card in cards_by_freq[:5]:\n",
    "    print(card, all_cards[card])\n",
    "print('total cards', len(all_cards))\n",
    "\n",
    "# remove cards appearing in less than 1% of runs\n",
    "for card in list(all_cards.keys()):\n",
    "    if all_cards[card] < .01 * num_runs:\n",
    "        del all_cards[card]\n",
    "final_cards = set(all_cards.keys())\n",
    "print('total cards after removing those only appearing in <1% runs:',\n",
    "      len(all_cards),\n",
    "      len(final_cards))"
   ]
  },
  {
   "cell_type": "code",
   "execution_count": 47,
   "id": "0d0187b4-445b-4f9e-ac65-31f892f35517",
   "metadata": {
    "tags": []
   },
   "outputs": [
    {
     "name": "stdout",
     "output_type": "stream",
     "text": [
      "{'df_setup': 0.04314131000000998, 'df_fill': 1.3933389979997628}\n",
      "                                      Rampage  Impervious  Defend_R  \\\n",
      "be781d3b-6cde-47fc-b900-97f35e064001     True        True      True   \n",
      "349582b6-8695-499d-9657-1254b033e67c    False       False      True   \n",
      "e04e2e20-73c4-41fb-84fc-71de9bf6ec08    False       False      True   \n",
      "a099980f-9728-4369-b15b-01b9bb718389    False       False      True   \n",
      "734202ac-d6ce-4379-a3f6-69082c8881c5    False       False      True   \n",
      "...                                       ...         ...       ...   \n",
      "68269c04-9f3d-455e-99b7-b00957bc8ff3    False       False      True   \n",
      "21f466f9-8d1b-4a71-a842-17f1353848fd     True       False      True   \n",
      "302140e5-0a08-415c-bfd1-0671d4fe8258    False       False      True   \n",
      "8f4e7661-32fd-4d72-89b8-9ec8d0d16727    False       False      True   \n",
      "17ad76d8-8ecd-4862-8a01-9a1d735bc0a7    False        True      True   \n",
      "\n",
      "                                      AscendersBane  Strike_R  Mayhem  \\\n",
      "be781d3b-6cde-47fc-b900-97f35e064001           True      True    True   \n",
      "349582b6-8695-499d-9657-1254b033e67c          False      True   False   \n",
      "e04e2e20-73c4-41fb-84fc-71de9bf6ec08           True      True   False   \n",
      "a099980f-9728-4369-b15b-01b9bb718389           True      True   False   \n",
      "734202ac-d6ce-4379-a3f6-69082c8881c5           True      True   False   \n",
      "...                                             ...       ...     ...   \n",
      "68269c04-9f3d-455e-99b7-b00957bc8ff3           True      True   False   \n",
      "21f466f9-8d1b-4a71-a842-17f1353848fd           True      True   False   \n",
      "302140e5-0a08-415c-bfd1-0671d4fe8258           True      True   False   \n",
      "8f4e7661-32fd-4d72-89b8-9ec8d0d16727          False     False   False   \n",
      "17ad76d8-8ecd-4862-8a01-9a1d735bc0a7           True      True   False   \n",
      "\n",
      "                                      Body Slam  Bash  Double Tap  \\\n",
      "be781d3b-6cde-47fc-b900-97f35e064001       True  True        True   \n",
      "349582b6-8695-499d-9657-1254b033e67c       True  True       False   \n",
      "e04e2e20-73c4-41fb-84fc-71de9bf6ec08      False  True        True   \n",
      "a099980f-9728-4369-b15b-01b9bb718389      False  True       False   \n",
      "734202ac-d6ce-4379-a3f6-69082c8881c5      False  True       False   \n",
      "...                                         ...   ...         ...   \n",
      "68269c04-9f3d-455e-99b7-b00957bc8ff3       True  True       False   \n",
      "21f466f9-8d1b-4a71-a842-17f1353848fd      False  True       False   \n",
      "302140e5-0a08-415c-bfd1-0671d4fe8258      False  True       False   \n",
      "8f4e7661-32fd-4d72-89b8-9ec8d0d16727      False  True       False   \n",
      "17ad76d8-8ecd-4862-8a01-9a1d735bc0a7      False  True       False   \n",
      "\n",
      "                                      Ghostly Armor  ...  Flash of Steel  \\\n",
      "be781d3b-6cde-47fc-b900-97f35e064001           True  ...           False   \n",
      "349582b6-8695-499d-9657-1254b033e67c          False  ...           False   \n",
      "e04e2e20-73c4-41fb-84fc-71de9bf6ec08           True  ...           False   \n",
      "a099980f-9728-4369-b15b-01b9bb718389          False  ...           False   \n",
      "734202ac-d6ce-4379-a3f6-69082c8881c5           True  ...           False   \n",
      "...                                             ...  ...             ...   \n",
      "68269c04-9f3d-455e-99b7-b00957bc8ff3          False  ...           False   \n",
      "21f466f9-8d1b-4a71-a842-17f1353848fd          False  ...           False   \n",
      "302140e5-0a08-415c-bfd1-0671d4fe8258          False  ...           False   \n",
      "8f4e7661-32fd-4d72-89b8-9ec8d0d16727           True  ...           False   \n",
      "17ad76d8-8ecd-4862-8a01-9a1d735bc0a7          False  ...           False   \n",
      "\n",
      "                                      Enlightenment  Discovery  Injury  \\\n",
      "be781d3b-6cde-47fc-b900-97f35e064001          False      False   False   \n",
      "349582b6-8695-499d-9657-1254b033e67c          False      False   False   \n",
      "e04e2e20-73c4-41fb-84fc-71de9bf6ec08          False      False   False   \n",
      "a099980f-9728-4369-b15b-01b9bb718389          False      False   False   \n",
      "734202ac-d6ce-4379-a3f6-69082c8881c5          False      False   False   \n",
      "...                                             ...        ...     ...   \n",
      "68269c04-9f3d-455e-99b7-b00957bc8ff3          False      False   False   \n",
      "21f466f9-8d1b-4a71-a842-17f1353848fd          False      False   False   \n",
      "302140e5-0a08-415c-bfd1-0671d4fe8258          False      False   False   \n",
      "8f4e7661-32fd-4d72-89b8-9ec8d0d16727          False      False   False   \n",
      "17ad76d8-8ecd-4862-8a01-9a1d735bc0a7          False      False   False   \n",
      "\n",
      "                                      Dark Shackles  Doubt  Finesse  J.A.X.  \\\n",
      "be781d3b-6cde-47fc-b900-97f35e064001          False  False    False   False   \n",
      "349582b6-8695-499d-9657-1254b033e67c          False  False    False   False   \n",
      "e04e2e20-73c4-41fb-84fc-71de9bf6ec08          False  False    False   False   \n",
      "a099980f-9728-4369-b15b-01b9bb718389          False  False    False   False   \n",
      "734202ac-d6ce-4379-a3f6-69082c8881c5          False  False    False   False   \n",
      "...                                             ...    ...      ...     ...   \n",
      "68269c04-9f3d-455e-99b7-b00957bc8ff3          False  False    False   False   \n",
      "21f466f9-8d1b-4a71-a842-17f1353848fd          False  False    False   False   \n",
      "302140e5-0a08-415c-bfd1-0671d4fe8258          False  False    False   False   \n",
      "8f4e7661-32fd-4d72-89b8-9ec8d0d16727          False  False    False   False   \n",
      "17ad76d8-8ecd-4862-8a01-9a1d735bc0a7          False  False    False   False   \n",
      "\n",
      "                                      Bandage Up  Blind  \n",
      "be781d3b-6cde-47fc-b900-97f35e064001       False  False  \n",
      "349582b6-8695-499d-9657-1254b033e67c       False  False  \n",
      "e04e2e20-73c4-41fb-84fc-71de9bf6ec08       False  False  \n",
      "a099980f-9728-4369-b15b-01b9bb718389       False  False  \n",
      "734202ac-d6ce-4379-a3f6-69082c8881c5       False  False  \n",
      "...                                          ...    ...  \n",
      "68269c04-9f3d-455e-99b7-b00957bc8ff3       False  False  \n",
      "21f466f9-8d1b-4a71-a842-17f1353848fd       False  False  \n",
      "302140e5-0a08-415c-bfd1-0671d4fe8258       False  False  \n",
      "8f4e7661-32fd-4d72-89b8-9ec8d0d16727       False  False  \n",
      "17ad76d8-8ecd-4862-8a01-9a1d735bc0a7       False  False  \n",
      "\n",
      "[11531 rows x 105 columns]\n"
     ]
    }
   ],
   "source": [
    "# print(deck_lists)\n",
    "# all_cards\n",
    "timings = {}\n",
    "t1 = time.perf_counter()\n",
    "df = pd.DataFrame(columns=all_cards, index=deck_lists.keys())\n",
    "timings['df_setup'] = time.perf_counter() - t1\n",
    "t1 = time.perf_counter()\n",
    "\n",
    "# mark the cards which appear in each run\n",
    "for play_id, dl in deck_lists.items():\n",
    "    df.loc[play_id] = [(card in dl) for card in df.columns]\n",
    "timings['df_fill'] = time.perf_counter() - t1\n",
    "print(timings)\n",
    "df.fillna(False, inplace = True)\n",
    "print(df)"
   ]
  },
  {
   "cell_type": "code",
   "execution_count": 48,
   "id": "20a0b122-0364-4fbf-a2f3-b8a1f759f667",
   "metadata": {},
   "outputs": [
    {
     "data": {
      "text/plain": [
       "105"
      ]
     },
     "execution_count": 48,
     "metadata": {},
     "output_type": "execute_result"
    }
   ],
   "source": [
    "len(df.columns.tolist())"
   ]
  },
  {
   "cell_type": "code",
   "execution_count": 49,
   "id": "beb425d2-c625-4e5e-92dd-4d66d263e7ba",
   "metadata": {},
   "outputs": [
    {
     "data": {
      "text/plain": [
       "Rampage          bool\n",
       "Impervious       bool\n",
       "Defend_R         bool\n",
       "AscendersBane    bool\n",
       "Strike_R         bool\n",
       "                 ... \n",
       "Doubt            bool\n",
       "Finesse          bool\n",
       "J.A.X.           bool\n",
       "Bandage Up       bool\n",
       "Blind            bool\n",
       "Length: 105, dtype: object"
      ]
     },
     "execution_count": 49,
     "metadata": {},
     "output_type": "execute_result"
    }
   ],
   "source": [
    "df.dtypes"
   ]
  },
  {
   "cell_type": "code",
   "execution_count": 50,
   "id": "9a506ba5-015f-4880-afd5-de52afc4012e",
   "metadata": {},
   "outputs": [
    {
     "name": "stdout",
     "output_type": "stream",
     "text": [
      "['Rampage', 'Impervious', 'Defend_R', 'AscendersBane', 'Strike_R', 'Mayhem', 'Body Slam', 'Bash', 'Double Tap', 'Ghostly Armor', 'Demon Form', 'Madness', 'Berserk', 'Heavy Blade', 'Apotheosis', 'Disarm', 'Shockwave', 'Feed', 'Dropkick', 'Barricade', 'Shrug It Off', 'Whirlwind', 'Clash', 'Inflame', 'Flex', 'Seeing Red', 'Armaments', 'Infernal Blade', 'Rage', 'Reaper', 'Wild Strike', 'Perfected Strike', 'Bloodletting', 'Sword Boomerang', 'Cleave', 'CurseOfTheBell', 'Uppercut', 'Iron Wave', 'True Grit', 'Second Wind', 'Clothesline', 'Corruption', 'Sever Soul', 'Immolate', 'Thunderclap', 'Battle Trance', 'Twin Strike', 'Ghostly', 'Headbutt', 'Rupture', 'Offering', 'Sentinel', 'Limit Break', 'Dual Wield', 'Carnage', 'Blood for Blood', 'Metallicize', 'Pummel', 'Fiend Fire', 'Dark Embrace', 'Havoc', 'Pommel Strike', 'Warcry', 'Reckless Charge', 'Flame Barrier', 'Burning Pact', 'RitualDagger', 'Searing Blow', 'Power Through', 'Bite', 'Feel No Pain', 'HandOfGreed', 'Entrench', 'Necronomicurse', 'Fire Breathing', 'Brutality', 'Spot Weakness', 'Exhume', 'Hemokinesis', 'Anger', 'Bludgeon', 'Intimidate', 'Juggernaut', 'Pain', 'Evolve', 'Combust', 'Writhe', 'Decay', 'Regret', 'Parasite', 'Dramatic Entrance', 'Shame', 'Panacea', 'Master of Strategy', 'Trip', 'Flash of Steel', 'Enlightenment', 'Discovery', 'Injury', 'Dark Shackles', 'Doubt', 'Finesse', 'J.A.X.', 'Bandage Up', 'Blind']\n",
      "                                      PCC        p-value\n",
      "Defend_R__Strike_R               0.488154   0.000000e+00\n",
      "Body Slam__Entrench              0.274684  1.080707e-198\n",
      "Body Slam__Barricade             0.270613  1.107544e-192\n",
      "Rupture__Combust                 0.262549  4.410840e-181\n",
      "Dark Embrace__Feel No Pain       0.246313  6.151503e-159\n",
      "Corruption__Dark Embrace         0.226789  2.103560e-134\n",
      "Barricade__Entrench              0.225724  3.951242e-133\n",
      "Perfected Strike__Twin Strike    0.216325  3.556730e-122\n",
      "Rupture__Brutality               0.212559  6.266556e-118\n",
      "Wild Strike__Fire Breathing      0.202190  1.171270e-106\n",
      "Heavy Blade__Spot Weakness       0.197316  1.433588e-101\n",
      "Second Wind__Dark Embrace        0.197122  2.273007e-101\n",
      "Wild Strike__Perfected Strike    0.196018  3.085842e-100\n",
      "Power Through__Evolve            0.195047   3.019909e-99\n",
      "Power Through__Fire Breathing    0.191807   5.586444e-96\n",
      "Heavy Blade__Limit Break         0.190966   3.847484e-95\n",
      "Second Wind__Power Through       0.189593   8.817985e-94\n",
      "Second Wind__Feel No Pain        0.185738   5.122974e-90\n",
      "Corruption__Feel No Pain         0.183868   3.201979e-88\n",
      "Fire Breathing__Evolve           0.175317   2.958673e-80\n",
      "True Grit__Feel No Pain          0.173551   1.165770e-78\n",
      "Strike_R__Bash                   0.172793   5.566586e-78\n",
      "Heavy Blade__Flex                0.170556   5.404202e-76\n",
      "Rupture__Hemokinesis             0.165869   6.420529e-72\n",
      "Body Slam__Juggernaut            0.163143   1.325524e-69\n",
      "Sentinel__Dark Embrace           0.159873   7.013760e-67\n",
      "Reckless Charge__Fire Breathing  0.157798   3.507063e-65\n",
      "Heavy Blade__Inflame             0.156452   4.305135e-64\n",
      "Corruption__Sentinel             0.156204   6.817865e-64\n",
      "True Grit__Dark Embrace          0.155823   1.380470e-63\n"
     ]
    }
   ],
   "source": [
    "correlations = {}\n",
    "cards = df.columns.tolist()\n",
    "print(cards)\n",
    "for card_a, card_b in itertools.combinations(cards, 2):\n",
    "    correlations[card_a + '__' + card_b] = pearsonr(df.loc[:, card_a], df.loc[:, card_b])\n",
    "\n",
    "result = pd.DataFrame.from_dict(correlations, orient = 'index')\n",
    "result.columns = ['PCC', 'p-value']\n",
    "print(result.sort_values(by='PCC', ascending=False).head(30))"
   ]
  },
  {
   "cell_type": "code",
   "execution_count": null,
   "id": "9b1e1098-360d-4999-a0aa-961d3bf7cd76",
   "metadata": {},
   "outputs": [],
   "source": []
  }
 ],
 "metadata": {
  "kernelspec": {
   "display_name": "Python 3 (ipykernel)",
   "language": "python",
   "name": "python3"
  },
  "language_info": {
   "codemirror_mode": {
    "name": "ipython",
    "version": 3
   },
   "file_extension": ".py",
   "mimetype": "text/x-python",
   "name": "python",
   "nbconvert_exporter": "python",
   "pygments_lexer": "ipython3",
   "version": "3.8.10"
  }
 },
 "nbformat": 4,
 "nbformat_minor": 5
}
