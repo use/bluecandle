{
 "cells": [
  {
   "cell_type": "code",
   "execution_count": 4,
   "id": "b02a0706-495b-42cd-8c99-c5a667e9e668",
   "metadata": {},
   "outputs": [
    {
     "name": "stdout",
     "output_type": "stream",
     "text": [
      "{'b', 'a', 'c'} {'e', 'd', 'c'} {'c'}\n"
     ]
    }
   ],
   "source": [
    "a = {'a', 'b', 'a', 'c'}\n",
    "b = {'c', 'd', 'e'}\n",
    "c = a.intersection(b)\n",
    "print(a, b, c)"
   ]
  },
  {
   "cell_type": "code",
   "execution_count": null,
   "id": "890bd6ce-89c3-49ef-9ce9-520b57dcc3f6",
   "metadata": {},
   "outputs": [],
   "source": []
  }
 ],
 "metadata": {
  "kernelspec": {
   "display_name": "Python 3 (ipykernel)",
   "language": "python",
   "name": "python3"
  },
  "language_info": {
   "codemirror_mode": {
    "name": "ipython",
    "version": 3
   },
   "file_extension": ".py",
   "mimetype": "text/x-python",
   "name": "python",
   "nbconvert_exporter": "python",
   "pygments_lexer": "ipython3",
   "version": "3.8.10"
  }
 },
 "nbformat": 4,
 "nbformat_minor": 5
}
