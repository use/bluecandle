{
 "cells": [
  {
   "cell_type": "code",
   "execution_count": 87,
   "id": "5f413d69-07ee-4571-9420-c16789e16e91",
   "metadata": {},
   "outputs": [],
   "source": [
    "from pymongo import MongoClient\n",
    "from pprint import pprint\n",
    "import numpy as np\n",
    "import pandas as pd\n",
    "from scipy.stats import pearsonr\n",
    "import itertools\n",
    "import time\n",
    "import re"
   ]
  },
  {
   "cell_type": "code",
   "execution_count": 88,
   "id": "6bfddcfc-4e00-4e8e-a690-0ff6036d10c9",
   "metadata": {},
   "outputs": [],
   "source": [
    "re_ignore_upgrade = re.compile('\\+\\d+$')\n",
    "def ignore_upgrade(cardname: str) -> str:\n",
    "    return re.sub(re_ignore_upgrade, '', cardname)"
   ]
  },
  {
   "cell_type": "code",
   "execution_count": 89,
   "id": "c29bf185-12c6-4c33-948d-75d8fd957ef3",
   "metadata": {},
   "outputs": [
    {
     "name": "stdout",
     "output_type": "stream",
     "text": [
      "num_runs 6396\n",
      "CPU times: user 9.1 ms, sys: 0 ns, total: 9.1 ms\n",
      "Wall time: 1.61 s\n"
     ]
    }
   ],
   "source": [
    "%%time\n",
    "client = MongoClient('mongodb://localhost:27017')\n",
    "db = client.spire\n",
    "status = db.command('serverStatus')\n",
    "runs = db.runs\n",
    "\n",
    "search = {\n",
    "  # \"event.character_chosen\": \"THE_SILENT\",\n",
    "  \"event.character_chosen\": \"IRONCLAD\",\n",
    "  \"event.ascension_level\": {'$gte': 5},\n",
    "  \"event.floor_reached\": {'$gte': 30}\n",
    "}\n",
    "num_runs = runs.count_documents(search)\n",
    "print('num_runs', num_runs)\n",
    "\n",
    "result = runs.find(search)"
   ]
  },
  {
   "cell_type": "code",
   "execution_count": 90,
   "id": "7b182edb-b0e0-4dbf-bf36-589604e49d34",
   "metadata": {},
   "outputs": [
    {
     "name": "stdout",
     "output_type": "stream",
     "text": [
      "=== top cards ===\n",
      "Bash 5917\n",
      "Defend_R 5849\n",
      "Strike_R 5117\n",
      "AscendersBane 4227\n",
      "Shrug It Off 3588\n",
      "=== total cards ===\n",
      " 261\n",
      "=== top relics ===\n",
      "Burning Blood 5341\n",
      "NeowsBlessing 2160\n",
      "Red Skull 1346\n",
      "Vajra 1308\n",
      "Bronze Scales 1244\n",
      "=== total relics ===\n",
      " 152\n",
      "CPU times: user 2.78 s, sys: 18.7 ms, total: 2.8 s\n",
      "Wall time: 4.2 s\n"
     ]
    }
   ],
   "source": [
    "%%time\n",
    "# count how many decks contain each card\n",
    "# ignore card upgrades\n",
    "all_cards = {}\n",
    "all_relics = {}\n",
    "deck_lists = {}\n",
    "relic_lists = {}\n",
    "\n",
    "for r in result:\n",
    "\n",
    "    # count cards - only count a card once per deck\n",
    "    unique_cards = {ignore_upgrade(card) for card in set(r['event']['master_deck'])}\n",
    "    for card in unique_cards:\n",
    "        if card in all_cards:\n",
    "            all_cards[card] += 1\n",
    "        else:\n",
    "            all_cards[card] = 1\n",
    "\n",
    "    # count relics\n",
    "    for relic in r['event']['relics']:\n",
    "        if relic in all_relics:\n",
    "            all_relics[relic] += 1\n",
    "        else:\n",
    "            all_relics[relic] = 1\n",
    "\n",
    "    deck_lists[r['event']['play_id']] = {ignore_upgrade(card) for card in set(r['event']['master_deck'])} # don't care about duplicates right now\n",
    "    relic_lists[r['event']['play_id']] = set(r['event']['relics'])\n",
    "\n",
    "# check the top cards\n",
    "cards_by_freq = sorted(all_cards, key=all_cards.get, reverse=True)\n",
    "print('=== top cards ===')\n",
    "for card in cards_by_freq[:5]:\n",
    "    print(card, all_cards[card])\n",
    "print('=== total cards ===\\n', len(all_cards))\n",
    "\n",
    "# check the top relics\n",
    "relics_by_freq = sorted(all_relics, key=all_relics.get, reverse=True)\n",
    "print('=== top relics ===')\n",
    "for relic in relics_by_freq[:5]:\n",
    "    print(relic, all_relics[relic])\n",
    "print('=== total relics ===\\n', len(all_relics))"
   ]
  },
  {
   "cell_type": "code",
   "execution_count": 91,
   "id": "c9f87e00-8f42-489f-ae03-3ccf2fd40020",
   "metadata": {},
   "outputs": [
    {
     "name": "stdout",
     "output_type": "stream",
     "text": [
      "total cards after removing those only appearing in <1% runs: 112 112\n",
      "total relics after removing those only appearing in <1% runs: 144 144\n",
      "CPU times: user 945 µs, sys: 1 µs, total: 946 µs\n",
      "Wall time: 2.38 ms\n"
     ]
    }
   ],
   "source": [
    "%%time\n",
    "# remove cards appearing in less than 1% of runs\n",
    "for card in list(all_cards.keys()):\n",
    "    if all_cards[card] < .01 * num_runs:\n",
    "        del all_cards[card]\n",
    "final_cards = set(all_cards.keys())\n",
    "\n",
    "# remove relics appearing in less than 1% of runs\n",
    "for relic in list(all_relics.keys()):\n",
    "    if all_relics[relic] < .01 * num_runs:\n",
    "        del all_relics[relic]\n",
    "final_relics = set(all_relics.keys())\n",
    "\n",
    "print('total cards after removing those only appearing in <1% runs:',\n",
    "      len(all_cards),\n",
    "      len(final_cards))\n",
    "\n",
    "print('total relics after removing those only appearing in <1% runs:',\n",
    "      len(all_relics),\n",
    "      len(final_relics))"
   ]
  },
  {
   "cell_type": "code",
   "execution_count": 92,
   "id": "0d0187b4-445b-4f9e-ac65-31f892f35517",
   "metadata": {
    "tags": []
   },
   "outputs": [
    {
     "name": "stdout",
     "output_type": "stream",
     "text": [
      "{'df_setup': 0.05605231199297123, 'df_fill': 0.9865181990026031}\n",
      "                                      Bash  Berserk  Rampage   Feed  Body Slam\n",
      "play_id                                                                       \n",
      "be781d3b-6cde-47fc-b900-97f35e064001  True     True     True   True       True\n",
      "e04e2e20-73c4-41fb-84fc-71de9bf6ec08  True    False    False  False      False\n",
      "a099980f-9728-4369-b15b-01b9bb718389  True    False    False  False      False\n",
      "734202ac-d6ce-4379-a3f6-69082c8881c5  True    False    False  False      False\n",
      "efb1fa17-52cb-4b53-ba1e-3789dc9572fb  True    False    False  False      False\n",
      "304e3642-ab5f-480e-aabc-3e8bcb1c1fb8  True    False    False  False      False\n",
      "0ea75254-5b03-46db-bfd7-65a094f324b0  True    False    False  False       True\n",
      "3efcdf1f-6c6a-4ac0-9d00-201302c6077b  True    False     True  False      False\n",
      "806307da-5cec-444a-8b44-4e207b6739c0  True     True    False  False      False\n",
      "f13ea280-30f0-40c3-a935-ac178401e56a  True    False    False  False       True\n",
      "CPU times: user 1.29 s, sys: 0 ns, total: 1.29 s\n",
      "Wall time: 1.31 s\n"
     ]
    }
   ],
   "source": [
    "%%time\n",
    "# print(deck_lists)\n",
    "# all_cards\n",
    "timings = {}\n",
    "t1 = time.perf_counter()\n",
    "df = pd.DataFrame(\n",
    "    columns=list(all_cards.keys()) + list(all_relics.keys()),\n",
    "    index=deck_lists.keys())\n",
    "df.index.name = 'play_id'\n",
    "timings['df_setup'] = time.perf_counter() - t1\n",
    "t1 = time.perf_counter()\n",
    "\n",
    "# mark the cards which appear in each run\n",
    "for play_id, dl in deck_lists.items():\n",
    "    item_list = dl.union(relic_lists[play_id])\n",
    "    df.loc[play_id] = [(item in item_list) for item in df.columns]\n",
    "timings['df_fill'] = time.perf_counter() - t1\n",
    "print(timings)\n",
    "df.fillna(False, inplace = True)\n",
    "print(df.iloc[0:10, 0:5])"
   ]
  },
  {
   "cell_type": "code",
   "execution_count": 93,
   "id": "20a0b122-0364-4fbf-a2f3-b8a1f759f667",
   "metadata": {},
   "outputs": [
    {
     "name": "stdout",
     "output_type": "stream",
     "text": [
      "total items (cards + relics)\n"
     ]
    },
    {
     "data": {
      "text/plain": [
       "256"
      ]
     },
     "execution_count": 93,
     "metadata": {},
     "output_type": "execute_result"
    }
   ],
   "source": [
    "print('total items (cards + relics)')\n",
    "len(df.columns.tolist())"
   ]
  },
  {
   "cell_type": "code",
   "execution_count": 94,
   "id": "beb425d2-c625-4e5e-92dd-4d66d263e7ba",
   "metadata": {},
   "outputs": [
    {
     "data": {
      "text/plain": [
       "Bash             bool\n",
       "Berserk          bool\n",
       "Rampage          bool\n",
       "Feed             bool\n",
       "Body Slam        bool\n",
       "                 ... \n",
       "SsserpentHead    bool\n",
       "SacredBark       bool\n",
       "Nilry's Codex    bool\n",
       "FaceOfCleric     bool\n",
       "Chemical X       bool\n",
       "Length: 256, dtype: object"
      ]
     },
     "execution_count": 94,
     "metadata": {},
     "output_type": "execute_result"
    }
   ],
   "source": [
    "df.dtypes"
   ]
  },
  {
   "cell_type": "code",
   "execution_count": 95,
   "id": "9a506ba5-015f-4880-afd5-de52afc4012e",
   "metadata": {},
   "outputs": [
    {
     "name": "stdout",
     "output_type": "stream",
     "text": [
      "5 random items\n",
      "['Tiny House', 'Lizard Tail', 'Calipers', 'Defend_R', 'Tiny Chest']\n",
      "                                      PCC        p-value\n",
      "Necronomicurse__Necronomicon     0.961105   0.000000e+00\n",
      "CurseOfTheBell__Calling Bell     0.930321   0.000000e+00\n",
      "Defend_R__Strike_R               0.438360  1.194599e-298\n",
      "Body Slam__Entrench              0.320423  1.202002e-152\n",
      "Body Slam__Barricade             0.314930  2.998137e-147\n",
      "Pain__WarpedTongs                0.308234  7.996688e-141\n",
      "Dark Embrace__Feel No Pain       0.292676  1.564289e-126\n",
      "Rupture__Combust                 0.280495  5.948898e-116\n",
      "Barricade__Entrench              0.279456  4.495111e-115\n",
      "Corruption__Dark Embrace         0.273209  7.119039e-110\n",
      "Clumsy__Cursed Key               0.267918  1.413133e-105\n",
      "Perfected Strike__Twin Strike    0.256380   1.543130e-96\n",
      "Whirlwind__Chemical X            0.239858   2.230633e-84\n",
      "Power Through__Fire Breathing    0.234567   1.125872e-80\n",
      "Second Wind__Power Through       0.234246   1.874238e-80\n",
      "Wild Strike__Perfected Strike    0.232180   4.918444e-79\n",
      "Corruption__Feel No Pain         0.230883   3.761826e-78\n",
      "Power Through__Evolve            0.230483   7.022560e-78\n",
      "Heavy Blade__Limit Break         0.225501   1.523501e-74\n",
      "Wild Strike__Fire Breathing      0.225061   2.976825e-74\n",
      "Second Wind__Dark Embrace        0.214902   1.035411e-67\n",
      "Fire Breathing__Evolve           0.214791   1.216848e-67\n",
      "Heavy Blade__Spot Weakness       0.210228   8.209398e-65\n",
      "Brutality__Rupture               0.205299   7.880770e-62\n",
      "Body Slam__Juggernaut            0.203823   5.952230e-61\n",
      "Second Wind__Feel No Pain        0.203037   1.736472e-60\n",
      "Bash__Strike_R                   0.202289   4.789684e-60\n",
      "Fire Breathing__Reckless Charge  0.194943   8.205473e-56\n",
      "True Grit__Feel No Pain          0.190917   1.456210e-53\n",
      "Perfected Strike__Pommel Strike  0.190723   1.865291e-53\n",
      "Sentinel__Dark Embrace           0.187860   6.884691e-52\n",
      "Corruption__Sentinel             0.186444   4.014739e-51\n",
      "Demon Form__Heavy Blade          0.184849   2.876815e-50\n",
      "Injury__Cursed Key               0.184052   7.644930e-50\n",
      "Hemokinesis__Rupture             0.182365   5.964169e-49\n",
      "Heavy Blade__Flex                0.181328   2.087937e-48\n",
      "True Grit__Dark Embrace          0.181308   2.138033e-48\n",
      "Normality__Cursed Key            0.180242   7.685728e-48\n",
      "Inflame__Limit Break             0.178476   6.294637e-47\n",
      "Bludgeon__Snecko Eye             0.177553   1.871496e-46\n",
      "Power Through__Dark Embrace      0.174265   8.663850e-45\n",
      "Power Through__Feel No Pain      0.173194   2.971814e-44\n",
      "Pain__Cursed Key                 0.173123   3.225546e-44\n",
      "Heavy Blade__Inflame             0.171574   1.889042e-43\n",
      "Metallicize__Juggernaut          0.169903   1.248534e-42\n",
      "Burning Pact__Feel No Pain       0.169016   3.375803e-42\n",
      "Flex__Clash                      0.167105   2.826351e-41\n",
      "Burning Pact__Dark Embrace       0.164890   3.213568e-40\n",
      "Second Wind__Evolve              0.163751   1.107030e-39\n",
      "Sword Boomerang__Limit Break     0.163210   1.985011e-39\n",
      "CPU times: user 8.67 s, sys: 428 µs, total: 8.67 s\n",
      "Wall time: 8.75 s\n"
     ]
    }
   ],
   "source": [
    "%%time\n",
    "import random\n",
    "correlations = {}\n",
    "items = df.columns.tolist()\n",
    "random_items = items.copy()\n",
    "random.shuffle(random_items)\n",
    "print('5 random items')\n",
    "print(random_items[:5])\n",
    "for item_a, item_b in itertools.combinations(items, 2):\n",
    "    correlations[item_a + '__' + item_b] = pearsonr(df.loc[:, item_a], df.loc[:, item_b])\n",
    "\n",
    "result = pd.DataFrame.from_dict(correlations, orient = 'index')\n",
    "result.columns = ['PCC', 'p-value']\n",
    "print(result.sort_values(by='PCC', ascending=False).head(50))"
   ]
  },
  {
   "cell_type": "code",
   "execution_count": null,
   "id": "9b1e1098-360d-4999-a0aa-961d3bf7cd76",
   "metadata": {},
   "outputs": [],
   "source": []
  }
 ],
 "metadata": {
  "kernelspec": {
   "display_name": "Python 3 (ipykernel)",
   "language": "python",
   "name": "python3"
  },
  "language_info": {
   "codemirror_mode": {
    "name": "ipython",
    "version": 3
   },
   "file_extension": ".py",
   "mimetype": "text/x-python",
   "name": "python",
   "nbconvert_exporter": "python",
   "pygments_lexer": "ipython3",
   "version": "3.8.10"
  }
 },
 "nbformat": 4,
 "nbformat_minor": 5
}
