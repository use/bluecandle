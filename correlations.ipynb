{
 "cells": [
  {
   "cell_type": "code",
   "execution_count": 1,
   "id": "5f413d69-07ee-4571-9420-c16789e16e91",
   "metadata": {},
   "outputs": [],
   "source": [
    "from pymongo import MongoClient\n",
    "from pprint import pprint\n",
    "import numpy as np\n",
    "import pandas as pd\n",
    "from scipy.stats import pearsonr\n",
    "import itertools\n",
    "import time\n",
    "import re"
   ]
  },
  {
   "cell_type": "code",
   "execution_count": 2,
   "id": "6bfddcfc-4e00-4e8e-a690-0ff6036d10c9",
   "metadata": {},
   "outputs": [],
   "source": [
    "re_ignore_upgrade = re.compile('\\+\\d+$')\n",
    "def ignore_upgrade(cardname: str) -> str:\n",
    "    return re.sub(re_ignore_upgrade, '', cardname)"
   ]
  },
  {
   "cell_type": "code",
   "execution_count": 3,
   "id": "c29bf185-12c6-4c33-948d-75d8fd957ef3",
   "metadata": {},
   "outputs": [
    {
     "name": "stdout",
     "output_type": "stream",
     "text": [
      "num_runs 18736\n",
      "CPU times: user 12.7 ms, sys: 2.78 ms, total: 15.5 ms\n",
      "Wall time: 60.8 ms\n"
     ]
    }
   ],
   "source": [
    "%%time\n",
    "client = MongoClient('mongodb://localhost:27017')\n",
    "db = client.spire\n",
    "status = db.command('serverStatus')\n",
    "runs = db.runs\n",
    "\n",
    "search = {\n",
    "  # \"event.character_chosen\": \"THE_SILENT\",\n",
    "  \"event.character_chosen\": \"IRONCLAD\",\n",
    "  \"event.ascension_level\": {'$gte': 10},\n",
    "  \"event.floor_reached\": {'$gte': 40}\n",
    "}\n",
    "num_runs = runs.count_documents(search)\n",
    "print('num_runs', num_runs)\n",
    "\n",
    "result = runs.find(search)"
   ]
  },
  {
   "cell_type": "code",
   "execution_count": 4,
   "id": "7b182edb-b0e0-4dbf-bf36-589604e49d34",
   "metadata": {},
   "outputs": [
    {
     "name": "stdout",
     "output_type": "stream",
     "text": [
      "=== top cards ===\n",
      "AscendersBane 18700\n",
      "Bash 16726\n",
      "Defend_R 16574\n",
      "Strike_R 13250\n",
      "Shrug It Off 11769\n",
      "=== total cards ===\n",
      " 321\n",
      "=== top relics ===\n",
      "Burning Blood 15328\n",
      "NeowsBlessing 6371\n",
      "Vajra 4723\n",
      "Red Mask 4666\n",
      "Red Skull 4616\n",
      "=== total relics ===\n",
      " 153\n",
      "CPU times: user 10.5 s, sys: 267 ms, total: 10.8 s\n",
      "Wall time: 16.1 s\n"
     ]
    }
   ],
   "source": [
    "%%time\n",
    "# count how many decks contain each card\n",
    "# ignore card upgrades\n",
    "all_cards = {}\n",
    "all_relics = {}\n",
    "deck_lists = {}\n",
    "relic_lists = {}\n",
    "\n",
    "for r in result:\n",
    "\n",
    "    # count cards - only count a card once per deck\n",
    "    unique_cards = {ignore_upgrade(card) for card in set(r['event']['master_deck'])}\n",
    "    for card in unique_cards:\n",
    "        if card in all_cards:\n",
    "            all_cards[card] += 1\n",
    "        else:\n",
    "            all_cards[card] = 1\n",
    "\n",
    "    # count relics\n",
    "    for relic in r['event']['relics']:\n",
    "        if relic in all_relics:\n",
    "            all_relics[relic] += 1\n",
    "        else:\n",
    "            all_relics[relic] = 1\n",
    "\n",
    "    deck_lists[r['event']['play_id']] = {ignore_upgrade(card) for card in set(r['event']['master_deck'])} # don't care about duplicates right now\n",
    "    relic_lists[r['event']['play_id']] = set(r['event']['relics'])\n",
    "\n",
    "# check the top cards\n",
    "cards_by_freq = sorted(all_cards, key=all_cards.get, reverse=True)\n",
    "print('=== top cards ===')\n",
    "for card in cards_by_freq[:5]:\n",
    "    print(card, all_cards[card])\n",
    "print('=== total cards ===\\n', len(all_cards))\n",
    "\n",
    "# check the top relics\n",
    "relics_by_freq = sorted(all_relics, key=all_relics.get, reverse=True)\n",
    "print('=== top relics ===')\n",
    "for relic in relics_by_freq[:5]:\n",
    "    print(relic, all_relics[relic])\n",
    "print('=== total relics ===\\n', len(all_relics))"
   ]
  },
  {
   "cell_type": "code",
   "execution_count": 5,
   "id": "c9f87e00-8f42-489f-ae03-3ccf2fd40020",
   "metadata": {},
   "outputs": [
    {
     "name": "stdout",
     "output_type": "stream",
     "text": [
      "total cards after removing those only appearing in <1% runs: 124 124\n",
      "total relics after removing those only appearing in <1% runs: 144 144\n",
      "CPU times: user 423 µs, sys: 27 µs, total: 450 µs\n",
      "Wall time: 404 µs\n"
     ]
    }
   ],
   "source": [
    "%%time\n",
    "# remove cards appearing in less than 1% of runs\n",
    "for card in list(all_cards.keys()):\n",
    "    if all_cards[card] < .01 * num_runs:\n",
    "        del all_cards[card]\n",
    "final_cards = set(all_cards.keys())\n",
    "\n",
    "# remove relics appearing in less than 1% of runs\n",
    "for relic in list(all_relics.keys()):\n",
    "    if all_relics[relic] < .01 * num_runs:\n",
    "        del all_relics[relic]\n",
    "final_relics = set(all_relics.keys())\n",
    "\n",
    "print('total cards after removing those only appearing in <1% runs:',\n",
    "      len(all_cards),\n",
    "      len(final_cards))\n",
    "\n",
    "print('total relics after removing those only appearing in <1% runs:',\n",
    "      len(all_relics),\n",
    "      len(final_relics))"
   ]
  },
  {
   "cell_type": "code",
   "execution_count": 6,
   "id": "0d0187b4-445b-4f9e-ac65-31f892f35517",
   "metadata": {
    "tags": []
   },
   "outputs": [
    {
     "name": "stdout",
     "output_type": "stream",
     "text": [
      "{'df_setup': 0.3116861400194466, 'df_fill': 3.172118790971581}\n",
      "                                      Twin Strike  Rampage  Defend_R  \\\n",
      "play_id                                                                \n",
      "72816ebf-bfa0-4ed6-a2ef-02351f1380ab         True     True      True   \n",
      "0e293216-2222-4b7c-8754-bbc397740717        False    False      True   \n",
      "c74ad0ea-71ea-4c4d-af18-e74f1594cb82        False    False      True   \n",
      "acc198c8-66b9-47b9-a831-90a7be8c8701        False    False      True   \n",
      "dd972e1a-1801-4456-a95a-0fc30073f4a6        False    False      True   \n",
      "cef77499-ca19-45bd-8b3a-91c1d2b8b491        False    False      True   \n",
      "ad1c3fd7-6e4d-4b6b-b16f-2fd82786e762        False    False      True   \n",
      "0f256162-8af3-47f0-95f7-f96c7264fc74         True    False      True   \n",
      "ebdda67a-b3b3-47a5-b1c8-a7b4f42b05da        False    False      True   \n",
      "bc0537c6-fd80-4d2b-a547-3f228d871439        False    False      True   \n",
      "\n",
      "                                      Thunderclap  Ghostly Armor  \n",
      "play_id                                                           \n",
      "72816ebf-bfa0-4ed6-a2ef-02351f1380ab         True           True  \n",
      "0e293216-2222-4b7c-8754-bbc397740717        False          False  \n",
      "c74ad0ea-71ea-4c4d-af18-e74f1594cb82         True          False  \n",
      "acc198c8-66b9-47b9-a831-90a7be8c8701        False          False  \n",
      "dd972e1a-1801-4456-a95a-0fc30073f4a6         True          False  \n",
      "cef77499-ca19-45bd-8b3a-91c1d2b8b491        False          False  \n",
      "ad1c3fd7-6e4d-4b6b-b16f-2fd82786e762        False          False  \n",
      "0f256162-8af3-47f0-95f7-f96c7264fc74        False          False  \n",
      "ebdda67a-b3b3-47a5-b1c8-a7b4f42b05da        False           True  \n",
      "bc0537c6-fd80-4d2b-a547-3f228d871439        False          False  \n",
      "CPU times: user 4.48 s, sys: 134 ms, total: 4.62 s\n",
      "Wall time: 4.54 s\n"
     ]
    }
   ],
   "source": [
    "%%time\n",
    "# print(deck_lists)\n",
    "# all_cards\n",
    "timings = {}\n",
    "t1 = time.perf_counter()\n",
    "df = pd.DataFrame(\n",
    "    columns=list(all_cards.keys()) + list(all_relics.keys()),\n",
    "    index=deck_lists.keys())\n",
    "df.index.name = 'play_id'\n",
    "timings['df_setup'] = time.perf_counter() - t1\n",
    "t1 = time.perf_counter()\n",
    "\n",
    "# mark the cards which appear in each run\n",
    "for play_id, dl in deck_lists.items():\n",
    "    item_list = dl.union(relic_lists[play_id])\n",
    "    df.loc[play_id] = [(item in item_list) for item in df.columns]\n",
    "timings['df_fill'] = time.perf_counter() - t1\n",
    "print(timings)\n",
    "df.fillna(False, inplace = True)\n",
    "print(df.iloc[0:10, 0:5])"
   ]
  },
  {
   "cell_type": "code",
   "execution_count": 7,
   "id": "20a0b122-0364-4fbf-a2f3-b8a1f759f667",
   "metadata": {},
   "outputs": [
    {
     "name": "stdout",
     "output_type": "stream",
     "text": [
      "total items (cards + relics)\n"
     ]
    },
    {
     "data": {
      "text/plain": [
       "268"
      ]
     },
     "execution_count": 7,
     "metadata": {},
     "output_type": "execute_result"
    }
   ],
   "source": [
    "print('total items (cards + relics)')\n",
    "len(df.columns.tolist())"
   ]
  },
  {
   "cell_type": "code",
   "execution_count": 8,
   "id": "beb425d2-c625-4e5e-92dd-4d66d263e7ba",
   "metadata": {},
   "outputs": [
    {
     "data": {
      "text/plain": [
       "Twin Strike      bool\n",
       "Rampage          bool\n",
       "Defend_R         bool\n",
       "Thunderclap      bool\n",
       "Ghostly Armor    bool\n",
       "                 ... \n",
       "Nloth's Gift     bool\n",
       "Frozen Eye       bool\n",
       "SacredBark       bool\n",
       "FaceOfCleric     bool\n",
       "TheAbacus        bool\n",
       "Length: 268, dtype: object"
      ]
     },
     "execution_count": 8,
     "metadata": {},
     "output_type": "execute_result"
    }
   ],
   "source": [
    "df.dtypes"
   ]
  },
  {
   "cell_type": "code",
   "execution_count": 27,
   "id": "9a506ba5-015f-4880-afd5-de52afc4012e",
   "metadata": {},
   "outputs": [
    {
     "name": "stdout",
     "output_type": "stream",
     "text": [
      "item correlations\n",
      "                                    PCC        p-value\n",
      "Defend_R|Pandora's Box        -0.826229   0.000000e+00\n",
      "Black Blood|Burning Blood     -0.622910   0.000000e+00\n",
      "Pandora's Box|Strike_R        -0.463762   0.000000e+00\n",
      "Bite|Strike_R                 -0.325638   0.000000e+00\n",
      "Astrolabe|Strike_R            -0.207913  4.793184e-182\n",
      "Body Slam|Heavy Blade         -0.174991  1.007640e-128\n",
      "Second Wind|Strike_R          -0.171888  3.359292e-124\n",
      "Dark Embrace|Strike_R         -0.165662  2.201986e-115\n",
      "Body Slam|Limit Break         -0.158794  4.690873e-106\n",
      "Feel No Pain|Strike_R         -0.155719  5.169102e-102\n",
      "Bash|Body Slam                -0.153925   1.079532e-99\n",
      "Feel No Pain|Flex             -0.151417   1.697925e-96\n",
      "Body Slam|Inflame             -0.142540   1.276217e-85\n",
      "Barricade|Limit Break         -0.140864   1.212794e-83\n",
      "Barricade|Heavy Blade         -0.140697   1.900858e-83\n",
      "Flex|Snecko Eye               -0.140653   2.139787e-83\n",
      "Barricade|Flex                -0.139838   1.910593e-82\n",
      "Body Slam|Strike_R            -0.136645   8.979149e-79\n",
      "Bash|Second Wind              -0.136078   3.938417e-78\n",
      "Power Through|Strike_R        -0.134419   2.886809e-76\n",
      "Body Slam|Sword Boomerang     -0.133970   9.148378e-76\n",
      "Heavy Blade|Second Wind       -0.133067   9.183754e-75\n",
      "Feel No Pain|Heavy Blade      -0.131127   1.234433e-72\n",
      "Flex|True Grit                -0.130874   2.326486e-72\n",
      "Evolve|Strike_R               -0.129125   1.796440e-70\n",
      "Flex|Shrug It Off             -0.126418   1.329191e-67\n",
      "Burning Pact|Strike_R         -0.125789   6.048071e-67\n",
      "Body Slam|Twin Strike         -0.124511   1.283056e-65\n",
      "Body Slam|Flex                -0.124286   2.189037e-65\n",
      "Bash|Pandora's Box            -0.123144   3.251936e-64\n",
      "Entrench|Strike_R             -0.121819   7.185364e-63\n",
      "Evolve|Flex                   -0.120868   6.503340e-62\n",
      "Empty Cage|Strike_R           -0.119829   7.061184e-61\n",
      "Dark Embrace|Flex             -0.119547   1.345849e-60\n",
      "Evolve|Heavy Blade            -0.119393   1.909207e-60\n",
      "Entrench|Heavy Blade          -0.118000   4.470165e-59\n",
      "Dark Embrace|Heavy Blade      -0.115677   7.912602e-57\n",
      "Body Slam|Spot Weakness       -0.115150   2.519483e-56\n",
      "Bash|Entrench                 -0.114024   2.948086e-55\n",
      "Body Slam|Reaper              -0.113374   1.205954e-54\n",
      "Body Slam|Perfected Strike    -0.112532   7.374884e-54\n",
      "Barricade|Bash                -0.111940   2.620206e-53\n",
      "Sentinel|Strike_R             -0.109013   1.237757e-50\n",
      "Barricade|Strike_R            -0.107784   1.564241e-49\n",
      "Barricade|Twin Strike         -0.107201   5.162633e-49\n",
      "Flex|Power Through            -0.106733   1.338690e-48\n",
      "Barricade|Sword Boomerang     -0.105946   6.581999e-48\n",
      "Feel No Pain|Perfected Strike -0.105610   1.294499e-47\n",
      "Cleave|Second Wind            -0.104488   1.221468e-46\n",
      "Astrolabe|Bash                -0.104184   2.232396e-46\n",
      "CPU times: user 17.8 s, sys: 12.5 s, total: 30.3 s\n",
      "Wall time: 15.3 s\n"
     ]
    }
   ],
   "source": [
    "%%time\n",
    "import random\n",
    "correlations = {}\n",
    "items = sorted(df.columns.tolist())\n",
    "\n",
    "for item_a, item_b in itertools.combinations(items, 2):\n",
    "    correlations[item_a + '|' + item_b] = pearsonr(df.loc[:, item_a], df.loc[:, item_b])\n",
    "    # correlations[frozenset([item_a, item_b])] = pearsonr(df.loc[:, item_a], df.loc[:, item_b])\n",
    "\n",
    "result = pd.DataFrame.from_dict(correlations, orient = 'index')\n",
    "result.columns = ['PCC', 'p-value']\n",
    "print('item correlations')\n",
    "print(result.sort_values(by='PCC', ascending=True).head(50))"
   ]
  },
  {
   "cell_type": "code",
   "execution_count": 30,
   "id": "9b1e1098-360d-4999-a0aa-961d3bf7cd76",
   "metadata": {},
   "outputs": [
    {
     "data": {
      "text/plain": [
       "0.3560905871598513"
      ]
     },
     "execution_count": 30,
     "metadata": {},
     "output_type": "execute_result"
    }
   ],
   "source": [
    "# look up correlation of 2 cards\n",
    "# result['PCC'][frozenset(['Body Slam', 'Barricade'])]\n",
    "result['PCC']['Barricade|Body Slam']"
   ]
  },
  {
   "cell_type": "code",
   "execution_count": 31,
   "id": "29d72160-1da4-45af-9d47-c647aedc4a77",
   "metadata": {},
   "outputs": [],
   "source": [
    "# result.to_pickle('./correlations.pkl')"
   ]
  },
  {
   "cell_type": "code",
   "execution_count": 38,
   "id": "5ba5a699-668f-41fa-920e-053d41262b2f",
   "metadata": {},
   "outputs": [
    {
     "name": "stdout",
     "output_type": "stream",
     "text": [
      "0.35609059\n",
      "done\n"
     ]
    }
   ],
   "source": [
    "corr_only = result.copy()\n",
    "corr_only.drop(columns=['p-value'], inplace=True)\n",
    "corr_only = corr_only.round(decimals=8)\n",
    "print(corr_only['PCC']['Barricade|Body Slam'])\n",
    "corr_only.to_json('correlations.json')\n",
    "print('done')"
   ]
  },
  {
   "cell_type": "code",
   "execution_count": 33,
   "id": "bb6b7d05-ab10-4ba0-b200-7eb087aee0bf",
   "metadata": {},
   "outputs": [
    {
     "data": {
      "text/plain": [
       "Index(['PCC'], dtype='object')"
      ]
     },
     "execution_count": 33,
     "metadata": {},
     "output_type": "execute_result"
    }
   ],
   "source": [
    "corr_only.columns"
   ]
  },
  {
   "cell_type": "code",
   "execution_count": 42,
   "id": "d30f60eb-256d-4585-abd4-04a92f6bbe79",
   "metadata": {},
   "outputs": [],
   "source": [
    "import json\n",
    "with open('item_names.json', 'w') as f:\n",
    "    json.dump(items, f)"
   ]
  },
  {
   "cell_type": "code",
   "execution_count": null,
   "id": "90103a53-990c-45a7-930c-757b13e0f8b6",
   "metadata": {},
   "outputs": [],
   "source": []
  }
 ],
 "metadata": {
  "kernelspec": {
   "display_name": "Python 3 (ipykernel)",
   "language": "python",
   "name": "python3"
  },
  "language_info": {
   "codemirror_mode": {
    "name": "ipython",
    "version": 3
   },
   "file_extension": ".py",
   "mimetype": "text/x-python",
   "name": "python",
   "nbconvert_exporter": "python",
   "pygments_lexer": "ipython3",
   "version": "3.8.10"
  }
 },
 "nbformat": 4,
 "nbformat_minor": 5
}
