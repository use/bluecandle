{
 "cells": [
  {
   "cell_type": "code",
   "execution_count": 8,
   "id": "d718cb96-7c87-4776-8906-c1aa3ed981e6",
   "metadata": {},
   "outputs": [
    {
     "name": "stdout",
     "output_type": "stream",
     "text": [
      "CPU times: user 12.2 ms, sys: 500 µs, total: 12.7 ms\n",
      "Wall time: 937 ms\n"
     ]
    }
   ],
   "source": [
    "%%time\n",
    "\n",
    "from pymongo import MongoClient\n",
    "from pprint import pprint\n",
    "import json\n",
    "\n",
    "client = MongoClient('mongodb://localhost:27017')\n",
    "db = client.spire\n",
    "status = db.command('serverStatus')\n",
    "runs = db.runs\n",
    "\n",
    "match = {\n",
    "    'event.character_chosen': 'IRONCLAD', \n",
    "    'event.floor_reached': {\n",
    "        '$gte': 40\n",
    "    }, \n",
    "    'event.ascension_level': {\n",
    "        '$gte': 15\n",
    "    },\n",
    "    \"event.relics\": {\n",
    "        '$nin': ['PrismaticShard']\n",
    "    },\n",
    "    \"event.is_beta\": False,\n",
    "    \"event.is_endless\": False,\n",
    "}\n",
    "\n",
    "result = runs.aggregate([\n",
    "    {\n",
    "        \"$match\": match,\n",
    "    },\n",
    "    {\n",
    "        \"$project\": {\n",
    "            \"event.master_deck\": 1,\n",
    "        },\n",
    "    }, {\n",
    "        \"$unwind\": {\n",
    "            \"path\": \"$event.master_deck\",\n",
    "        },\n",
    "    }, {\n",
    "        \"$group\": {\n",
    "            \"_id\": \"$event.master_deck\",\n",
    "        },\n",
    "    },\n",
    "]);\n",
    "cards = [item['_id'] for item in result]\n",
    "\n",
    "result = runs.aggregate([\n",
    "    {\n",
    "        \"$match\": match,\n",
    "    },\n",
    "    {\n",
    "        \"$project\": {\n",
    "            \"event.relics\": 1,\n",
    "        },\n",
    "    }, {\n",
    "        \"$unwind\": {\n",
    "            \"path\": \"$event.relics\",\n",
    "        },\n",
    "    }, {\n",
    "        \"$group\": {\n",
    "            \"_id\": \"$event.relics\",\n",
    "        },\n",
    "    },\n",
    "]);\n",
    "relics = [item['_id'] for item in result]\n",
    "\n",
    "items = {\n",
    "    'relics': relics,\n",
    "    'cards': cards,\n",
    "}\n",
    "with open('all_items.json', 'w') as f:\n",
    "    json.dump(items, f)"
   ]
  },
  {
   "cell_type": "code",
   "execution_count": 10,
   "id": "b60452e3-e794-4053-8d97-934d2320479b",
   "metadata": {},
   "outputs": [
    {
     "data": {
      "text/plain": [
       "['Feel No Pain+1', 'Magnetism+1', 'Trip', 'Evolve+1', 'Enlightenment+1']"
      ]
     },
     "execution_count": 11,
     "metadata": {},
     "output_type": "execute_result"
    }
   ],
   "source": [
    "with open('all_items.json') as f:\n",
    "    loaded = json.load(f)\n",
    "loaded['cards'][:5]"
   ]
  },
  {
   "cell_type": "code",
   "execution_count": 12,
   "id": "ff2d2e70-0d1c-4f48-877b-3264b4bd4270",
   "metadata": {},
   "outputs": [
    {
     "data": {
      "text/plain": [
       "True"
      ]
     },
     "execution_count": 12,
     "metadata": {},
     "output_type": "execute_result"
    }
   ],
   "source": [
    "'Feel No Pain' in loaded['cards']"
   ]
  },
  {
   "cell_type": "code",
   "execution_count": 16,
   "id": "a75e24e6-5e57-4078-8425-d538c1d2529e",
   "metadata": {},
   "outputs": [
    {
     "data": {
      "text/plain": [
       "True"
      ]
     },
     "execution_count": 16,
     "metadata": {},
     "output_type": "execute_result"
    }
   ],
   "source": [
    "'Feel No Pain' in set(loaded['cards'])"
   ]
  },
  {
   "cell_type": "code",
   "execution_count": 15,
   "id": "b1bfcb06-d19a-443a-ad0c-2ff1b9411038",
   "metadata": {},
   "outputs": [
    {
     "data": {
      "text/plain": [
       "True"
      ]
     },
     "execution_count": 15,
     "metadata": {},
     "output_type": "execute_result"
    }
   ],
   "source": [
    "'Burning Blood' in loaded['relics']"
   ]
  },
  {
   "cell_type": "code",
   "execution_count": null,
   "id": "4de84096-7d4d-4c7c-82c3-52ed1cd40fd1",
   "metadata": {},
   "outputs": [],
   "source": []
  }
 ],
 "metadata": {
  "kernelspec": {
   "display_name": "Python 3 (ipykernel)",
   "language": "python",
   "name": "python3"
  },
  "language_info": {
   "codemirror_mode": {
    "name": "ipython",
    "version": 3
   },
   "file_extension": ".py",
   "mimetype": "text/x-python",
   "name": "python",
   "nbconvert_exporter": "python",
   "pygments_lexer": "ipython3",
   "version": "3.8.10"
  }
 },
 "nbformat": 4,
 "nbformat_minor": 5
}
