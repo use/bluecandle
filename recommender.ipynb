{
 "cells": [
  {
   "cell_type": "code",
   "execution_count": 1,
   "id": "f4a9d4bd-bebc-436a-b9c9-4f3133074ba7",
   "metadata": {},
   "outputs": [],
   "source": [
    "import pandas as pd"
   ]
  },
  {
   "cell_type": "code",
   "execution_count": 25,
   "id": "b326d250-638a-407e-af35-b449784d4d69",
   "metadata": {},
   "outputs": [],
   "source": [
    "def recommend_card(items, offers, correlations):\n",
    "    pick = ''\n",
    "    highest_corr = ''\n",
    "    highest_score = -1\n",
    "    for item in items:\n",
    "        for offered_card in offers:\n",
    "            score = correlations['PCC'][frozenset([item, offered_card])]\n",
    "            if score > highest_score:\n",
    "                highest_score = score\n",
    "                pick = offered_card\n",
    "                highest_corr = item\n",
    "    return {\n",
    "        'picked': pick,\n",
    "        'highest_corr': highest_corr\n",
    "    }\n"
   ]
  },
  {
   "cell_type": "code",
   "execution_count": 30,
   "id": "a38ede51-1e89-4419-8db4-0fccdb7c5a92",
   "metadata": {},
   "outputs": [
    {
     "name": "stdout",
     "output_type": "stream",
     "text": [
      "Body Slam was higher than  :  -0.08995756623150919\n",
      "Fire Breathing was higher than Body Slam :  -0.043878069905220494\n",
      "Whirlwind was higher than Fire Breathing :  -0.006122553064937218\n",
      "Thunderclap was higher than Whirlwind :  0.029664059074717978\n",
      "Thunderclap was higher than Thunderclap :  0.10600351279262134\n",
      "{'picked': 'Thunderclap', 'highest_corr': 'Dropkick'}\n"
     ]
    }
   ],
   "source": [
    "items = [\n",
    "    'Strike_R',\n",
    "    # 'Barricade',\n",
    "    'Dropkick',\n",
    "    'Bash',\n",
    "    # 'Chemical X',\n",
    "]\n",
    "offers = [\n",
    "    'Body Slam',\n",
    "    'Fire Breathing',\n",
    "    'Whirlwind',\n",
    "    'Thunderclap',\n",
    "]\n",
    "\n",
    "correlations = pd.read_pickle('./correlations.pkl')\n",
    "\n",
    "print(recommend_card(items, offers, correlations))"
   ]
  },
  {
   "cell_type": "code",
   "execution_count": 16,
   "id": "5142bcb6-baaa-4709-bcbd-bb668ea11ee5",
   "metadata": {},
   "outputs": [
    {
     "data": {
      "text/plain": [
       "0.31492970301181133"
      ]
     },
     "execution_count": 16,
     "metadata": {},
     "output_type": "execute_result"
    }
   ],
   "source": [
    "correlations['PCC'][frozenset(['Barricade', 'Body Slam'])]\n"
   ]
  },
  {
   "cell_type": "code",
   "execution_count": null,
   "id": "78fa3a5d-4cd8-4886-a29d-0c057e3e9c5f",
   "metadata": {},
   "outputs": [],
   "source": []
  }
 ],
 "metadata": {
  "kernelspec": {
   "display_name": "Python 3 (ipykernel)",
   "language": "python",
   "name": "python3"
  },
  "language_info": {
   "codemirror_mode": {
    "name": "ipython",
    "version": 3
   },
   "file_extension": ".py",
   "mimetype": "text/x-python",
   "name": "python",
   "nbconvert_exporter": "python",
   "pygments_lexer": "ipython3",
   "version": "3.8.10"
  }
 },
 "nbformat": 4,
 "nbformat_minor": 5
}
