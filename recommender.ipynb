{
 "cells": [
  {
   "cell_type": "code",
   "execution_count": 3,
   "id": "f4a9d4bd-bebc-436a-b9c9-4f3133074ba7",
   "metadata": {},
   "outputs": [],
   "source": [
    "import pandas as pd"
   ]
  },
  {
   "cell_type": "code",
   "execution_count": 4,
   "id": "b326d250-638a-407e-af35-b449784d4d69",
   "metadata": {},
   "outputs": [],
   "source": [
    "def recommend_card(items, offers, correlations, pickrates, current_floor):\n",
    "    pick = ''\n",
    "    highest_corr = ''\n",
    "    highest_score = -1\n",
    "    for item in items:\n",
    "        for offered_card in offers:\n",
    "            score = correlations['PCC'][frozenset([item, offered_card])]\n",
    "            if score > highest_score:\n",
    "                highest_score = score\n",
    "                pick = offered_card\n",
    "                highest_corr = item\n",
    "    return {\n",
    "        'picked': pick,\n",
    "        'highest_corr': highest_corr\n",
    "    }\n"
   ]
  },
  {
   "cell_type": "code",
   "execution_count": 5,
   "id": "a38ede51-1e89-4419-8db4-0fccdb7c5a92",
   "metadata": {},
   "outputs": [
    {
     "name": "stdout",
     "output_type": "stream",
     "text": [
      "{'picked': 'Thunderclap', 'highest_corr': 'Dropkick'}\n"
     ]
    }
   ],
   "source": [
    "items = [\n",
    "    'Strike_R',\n",
    "    # 'Barricade',\n",
    "    'Dropkick',\n",
    "    'Bash',\n",
    "    # 'Chemical X',\n",
    "]\n",
    "offers = [\n",
    "    'Body Slam',\n",
    "    'Fire Breathing',\n",
    "    'Whirlwind',\n",
    "    'Thunderclap',\n",
    "]\n",
    "\n",
    "correlations = pd.read_pickle('./correlations.pkl')\n",
    "\n",
    "print(recommend_card(items, offers, correlations))"
   ]
  },
  {
   "cell_type": "code",
   "execution_count": 6,
   "id": "5142bcb6-baaa-4709-bcbd-bb668ea11ee5",
   "metadata": {},
   "outputs": [
    {
     "data": {
      "text/plain": [
       "0.35609058715985153"
      ]
     },
     "execution_count": 6,
     "metadata": {},
     "output_type": "execute_result"
    }
   ],
   "source": [
    "correlations['PCC'][frozenset(['Barricade', 'Body Slam'])]\n"
   ]
  },
  {
   "cell_type": "code",
   "execution_count": 26,
   "id": "78fa3a5d-4cd8-4886-a29d-0c057e3e9c5f",
   "metadata": {},
   "outputs": [
    {
     "name": "stdout",
     "output_type": "stream",
     "text": [
      "system picked Ghostly Armor but I picked Shrug It Off\n"
     ]
    }
   ],
   "source": [
    "tests = [\n",
    "    {\n",
    "        'items': [\n",
    "            'Strike_R',\n",
    "            'Dropkick',\n",
    "            'Bash',\n",
    "        ],\n",
    "        'offered': [\n",
    "            'Fire Breathing',\n",
    "            'Whirlwind',\n",
    "            'Thunderclap',\n",
    "        ],\n",
    "        'mypick': 'Thunderclap'\n",
    "    },\n",
    "    {\n",
    "        'items': [\n",
    "            'Strike_R',\n",
    "            'Dropkick',\n",
    "            'Chemical X',\n",
    "        ],\n",
    "        'offered': [\n",
    "            'Fire Breathing',\n",
    "            'Whirlwind',\n",
    "            'Thunderclap',\n",
    "        ],\n",
    "        'mypick': 'Whirlwind'\n",
    "    },\n",
    "    {\n",
    "        'items': [\n",
    "            'Strike_R',\n",
    "            'Power Through',\n",
    "        ],\n",
    "        'offered': [\n",
    "            'Shrug It Off',\n",
    "            'Evolve',\n",
    "            'Perfected Strike',\n",
    "        ],\n",
    "        'mypick': 'Evolve'\n",
    "    },\n",
    "    {\n",
    "        'items': [\n",
    "            'Strike_R',\n",
    "            'Bash',\n",
    "        ],\n",
    "        'offered': [\n",
    "            'Shrug It Off',\n",
    "            'Ghostly Armor',\n",
    "            'Warcry',\n",
    "        ],\n",
    "        'mypick': 'Shrug It Off'\n",
    "    },\n",
    "]\n",
    "for test in tests:\n",
    "    recommended = recommend_card(test['items'], test['offered'], correlations)['picked']\n",
    "    if recommended != test['mypick']:\n",
    "        print(\"system picked\", recommended, \"but I picked\", test['mypick'])\n"
   ]
  },
  {
   "cell_type": "code",
   "execution_count": null,
   "id": "4ce22bcb-9f33-4e39-ab6f-1bf063f0a17d",
   "metadata": {},
   "outputs": [],
   "source": []
  }
 ],
 "metadata": {
  "kernelspec": {
   "display_name": "Python 3 (ipykernel)",
   "language": "python",
   "name": "python3"
  },
  "language_info": {
   "codemirror_mode": {
    "name": "ipython",
    "version": 3
   },
   "file_extension": ".py",
   "mimetype": "text/x-python",
   "name": "python",
   "nbconvert_exporter": "python",
   "pygments_lexer": "ipython3",
   "version": "3.8.10"
  }
 },
 "nbformat": 4,
 "nbformat_minor": 5
}
