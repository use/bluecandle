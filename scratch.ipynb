{
 "cells": [
  {
   "cell_type": "code",
   "execution_count": 4,
   "id": "b02a0706-495b-42cd-8c99-c5a667e9e668",
   "metadata": {},
   "outputs": [
    {
     "name": "stdout",
     "output_type": "stream",
     "text": [
      "{'b', 'a', 'c'} {'e', 'd', 'c'} {'c'}\n"
     ]
    }
   ],
   "source": [
    "a = {'a', 'b', 'a', 'c'}\n",
    "b = {'c', 'd', 'e'}\n",
    "c = a.intersection(b)\n",
    "print(a, b, c)"
   ]
  },
  {
   "cell_type": "code",
   "execution_count": 2,
   "id": "890bd6ce-89c3-49ef-9ce9-520b57dcc3f6",
   "metadata": {},
   "outputs": [
    {
     "name": "stdout",
     "output_type": "stream",
     "text": [
      "[True, False, True, False]\n"
     ]
    }
   ],
   "source": [
    "deck = {'a', 'b', 'c'}\n",
    "items = ['a', 'x', 'c', 'z']\n",
    "print([(item in deck) for item in items])"
   ]
  },
  {
   "cell_type": "code",
   "execution_count": 14,
   "id": "c58cb87e-925b-40ec-a828-5e18dc7c6b4b",
   "metadata": {},
   "outputs": [
    {
     "name": "stdout",
     "output_type": "stream",
     "text": [
      "['a', 'b', 'c']\n",
      "['a', 'b', 'c']\n",
      "['a', 'b', 'c']\n"
     ]
    }
   ],
   "source": [
    "import random\n",
    "a = ['a', 'b', 'c']\n",
    "print(a)\n",
    "b = a.copy()\n",
    "random.shuffle(b)\n",
    "print(a)\n",
    "print(b)"
   ]
  },
  {
   "cell_type": "code",
   "execution_count": 16,
   "id": "4b8ffde9-1fe4-4136-bd19-e0d59889810f",
   "metadata": {},
   "outputs": [
    {
     "data": {
      "text/plain": [
       "frozenset({'a', 'b'})"
      ]
     },
     "execution_count": 16,
     "metadata": {},
     "output_type": "execute_result"
    }
   ],
   "source": [
    "frozenset(['a', 'b'])"
   ]
  },
  {
   "cell_type": "code",
   "execution_count": 2,
   "id": "bcc95e44-67d7-4d24-8d0c-d63cefb69c39",
   "metadata": {},
   "outputs": [
    {
     "name": "stdout",
     "output_type": "stream",
     "text": [
      "hi\n"
     ]
    }
   ],
   "source": [
    "print('hi')"
   ]
  },
  {
   "cell_type": "code",
   "execution_count": 3,
   "id": "def8fee1-6990-4f39-9066-a121b2a5444e",
   "metadata": {},
   "outputs": [
    {
     "name": "stdout",
     "output_type": "stream",
     "text": [
      "hi+1\n"
     ]
    }
   ],
   "source": [
    "print(\"hi\"+\"+1\")"
   ]
  },
  {
   "cell_type": "code",
   "execution_count": null,
   "id": "60ec178f-a793-4e29-8613-6bec9ca9fa39",
   "metadata": {},
   "outputs": [],
   "source": []
  }
 ],
 "metadata": {
  "kernelspec": {
   "display_name": "Python 3 (ipykernel)",
   "language": "python",
   "name": "python3"
  },
  "language_info": {
   "codemirror_mode": {
    "name": "ipython",
    "version": 3
   },
   "file_extension": ".py",
   "mimetype": "text/x-python",
   "name": "python",
   "nbconvert_exporter": "python",
   "pygments_lexer": "ipython3",
   "version": "3.8.10"
  }
 },
 "nbformat": 4,
 "nbformat_minor": 5
}
