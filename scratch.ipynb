{
 "cells": [
  {
   "cell_type": "code",
   "execution_count": 4,
   "id": "b02a0706-495b-42cd-8c99-c5a667e9e668",
   "metadata": {},
   "outputs": [
    {
     "name": "stdout",
     "output_type": "stream",
     "text": [
      "{'b', 'a', 'c'} {'e', 'd', 'c'} {'c'}\n"
     ]
    }
   ],
   "source": [
    "a = {'a', 'b', 'a', 'c'}\n",
    "b = {'c', 'd', 'e'}\n",
    "c = a.intersection(b)\n",
    "print(a, b, c)"
   ]
  },
  {
   "cell_type": "code",
   "execution_count": 2,
   "id": "890bd6ce-89c3-49ef-9ce9-520b57dcc3f6",
   "metadata": {},
   "outputs": [
    {
     "name": "stdout",
     "output_type": "stream",
     "text": [
      "[True, False, True, False]\n"
     ]
    }
   ],
   "source": [
    "deck = {'a', 'b', 'c'}\n",
    "items = ['a', 'x', 'c', 'z']\n",
    "print([(item in deck) for item in items])"
   ]
  },
  {
   "cell_type": "code",
   "execution_count": 14,
   "id": "c58cb87e-925b-40ec-a828-5e18dc7c6b4b",
   "metadata": {},
   "outputs": [
    {
     "name": "stdout",
     "output_type": "stream",
     "text": [
      "['a', 'b', 'c']\n",
      "['a', 'b', 'c']\n",
      "['a', 'b', 'c']\n"
     ]
    }
   ],
   "source": [
    "import random\n",
    "a = ['a', 'b', 'c']\n",
    "print(a)\n",
    "b = a.copy()\n",
    "random.shuffle(b)\n",
    "print(a)\n",
    "print(b)"
   ]
  },
  {
   "cell_type": "code",
   "execution_count": 16,
   "id": "4b8ffde9-1fe4-4136-bd19-e0d59889810f",
   "metadata": {},
   "outputs": [
    {
     "data": {
      "text/plain": [
       "frozenset({'a', 'b'})"
      ]
     },
     "execution_count": 16,
     "metadata": {},
     "output_type": "execute_result"
    }
   ],
   "source": [
    "frozenset(['a', 'b'])"
   ]
  },
  {
   "cell_type": "code",
   "execution_count": 2,
   "id": "bcc95e44-67d7-4d24-8d0c-d63cefb69c39",
   "metadata": {},
   "outputs": [
    {
     "name": "stdout",
     "output_type": "stream",
     "text": [
      "hi\n"
     ]
    }
   ],
   "source": [
    "print('hi')"
   ]
  },
  {
   "cell_type": "code",
   "execution_count": 3,
   "id": "def8fee1-6990-4f39-9066-a121b2a5444e",
   "metadata": {},
   "outputs": [
    {
     "name": "stdout",
     "output_type": "stream",
     "text": [
      "hi+1\n"
     ]
    }
   ],
   "source": [
    "print(\"hi\"+\"+1\")"
   ]
  },
  {
   "cell_type": "code",
   "execution_count": 5,
   "id": "60ec178f-a793-4e29-8613-6bec9ca9fa39",
   "metadata": {},
   "outputs": [
    {
     "data": {
      "text/plain": [
       "[0,\n",
       " 1,\n",
       " 2,\n",
       " 3,\n",
       " 4,\n",
       " 5,\n",
       " 6,\n",
       " 7,\n",
       " 8,\n",
       " 9,\n",
       " 10,\n",
       " 11,\n",
       " 12,\n",
       " 13,\n",
       " 14,\n",
       " 15,\n",
       " 16,\n",
       " 17,\n",
       " 18,\n",
       " 19,\n",
       " 20,\n",
       " 21,\n",
       " 22,\n",
       " 23,\n",
       " 24,\n",
       " 25,\n",
       " 26,\n",
       " 27,\n",
       " 28,\n",
       " 29,\n",
       " 30,\n",
       " 31,\n",
       " 32,\n",
       " 33,\n",
       " 34,\n",
       " 35,\n",
       " 36,\n",
       " 37,\n",
       " 38,\n",
       " 39,\n",
       " 40,\n",
       " 41,\n",
       " 42,\n",
       " 43,\n",
       " 44,\n",
       " 45,\n",
       " 46,\n",
       " 47,\n",
       " 48,\n",
       " 49,\n",
       " 50,\n",
       " 51,\n",
       " 52,\n",
       " 53,\n",
       " 54]"
      ]
     },
     "execution_count": 5,
     "metadata": {},
     "output_type": "execute_result"
    }
   ],
   "source": [
    "[i for i in range(0, 55)]"
   ]
  },
  {
   "cell_type": "code",
   "execution_count": 18,
   "id": "5ec0e341-7fcd-4f59-b182-c78b66d7bfcf",
   "metadata": {},
   "outputs": [
    {
     "data": {
      "text/plain": [
       "True"
      ]
     },
     "execution_count": 18,
     "metadata": {},
     "output_type": "execute_result"
    }
   ],
   "source": [
    "di = {'greeting': [3, 5, 9]}\n",
    "'greeting' in di"
   ]
  },
  {
   "cell_type": "code",
   "execution_count": 14,
   "id": "ff65f7a4-b0ac-423a-a39e-58655481261c",
   "metadata": {},
   "outputs": [
    {
     "data": {
      "text/plain": [
       "False"
      ]
     },
     "execution_count": 14,
     "metadata": {},
     "output_type": "execute_result"
    }
   ],
   "source": [
    "type(di['greeting']) == str"
   ]
  },
  {
   "cell_type": "code",
   "execution_count": 19,
   "id": "800ec790-8825-4c52-a83b-6d4c7b6eb6aa",
   "metadata": {},
   "outputs": [
    {
     "data": {
      "text/plain": [
       "True"
      ]
     },
     "execution_count": 19,
     "metadata": {},
     "output_type": "execute_result"
    }
   ],
   "source": [
    "type(di['greeting']) == list"
   ]
  },
  {
   "cell_type": "code",
   "execution_count": 40,
   "id": "e5cbd494-0ec3-47b8-bf01-f7e6bf66078a",
   "metadata": {},
   "outputs": [
    {
     "name": "stdout",
     "output_type": "stream",
     "text": [
      "['a', 'b', 'c']\n",
      "['a', 'b', 'b', 'c']\n"
     ]
    },
    {
     "ename": "ValueError",
     "evalue": "list.remove(x): x not in list",
     "output_type": "error",
     "traceback": [
      "\u001b[0;31m---------------------------------------------------------------------------\u001b[0m",
      "\u001b[0;31mValueError\u001b[0m                                Traceback (most recent call last)",
      "Input \u001b[0;32mIn [40]\u001b[0m, in \u001b[0;36m<cell line: 6>\u001b[0;34m()\u001b[0m\n\u001b[1;32m      4\u001b[0m \u001b[38;5;28mprint\u001b[39m(l)\n\u001b[1;32m      5\u001b[0m \u001b[38;5;28mprint\u001b[39m(another_l)\n\u001b[0;32m----> 6\u001b[0m \u001b[43ml\u001b[49m\u001b[38;5;241;43m.\u001b[39;49m\u001b[43mremove\u001b[49m\u001b[43m(\u001b[49m\u001b[38;5;124;43m'\u001b[39;49m\u001b[38;5;124;43mz\u001b[39;49m\u001b[38;5;124;43m'\u001b[39;49m\u001b[43m)\u001b[49m\n",
      "\u001b[0;31mValueError\u001b[0m: list.remove(x): x not in list"
     ]
    }
   ],
   "source": [
    "l = ['a', 'b', 'b', 'c']\n",
    "another_l = l.copy()\n",
    "l.remove('b')\n",
    "print(l)\n",
    "print(another_l)\n"
   ]
  },
  {
   "cell_type": "code",
   "execution_count": null,
   "id": "4cfd3b18-2d74-4afd-a4ed-d5ffd3d59828",
   "metadata": {},
   "outputs": [],
   "source": []
  },
  {
   "cell_type": "code",
   "execution_count": 38,
   "id": "f0fcd804-1266-4788-9bad-4fcffcce288f",
   "metadata": {},
   "outputs": [
    {
     "name": "stdout",
     "output_type": "stream",
     "text": [
      "('Amplify', None, None)\n",
      "Amplify | Amplify+1\n",
      "('SearingBlow', '+3', '3')\n",
      "SearingBlow+3 | SearingBlow+4\n"
     ]
    }
   ],
   "source": [
    "import re\n",
    "tests = ['Amplify', 'SearingBlow+3']\n",
    "for test in tests:\n",
    "    m = re.match(r'([^+]+)(\\+(\\d+))?', test)\n",
    "    print(m.groups())\n",
    "    if m.group(2) is None:\n",
    "        newname = m.group(1) + \"+1\"\n",
    "    else:\n",
    "        newname = m.group(1) + \"+\" + str(int(m.group(3)) + 1)\n",
    "    print(test, '|', newname)"
   ]
  },
  {
   "cell_type": "code",
   "execution_count": 29,
   "id": "b3ff4ca1-5ac9-4ea9-848a-569e150a8e1c",
   "metadata": {},
   "outputs": [
    {
     "data": {
      "text/plain": [
       "5"
      ]
     },
     "execution_count": 29,
     "metadata": {},
     "output_type": "execute_result"
    }
   ],
   "source": [
    "int('5')"
   ]
  },
  {
   "cell_type": "code",
   "execution_count": 41,
   "id": "7c51b6fd-276d-4a64-bd6d-9c01473e8e7b",
   "metadata": {},
   "outputs": [],
   "source": [
    "d = {}\n",
    "d[5] = 'asdf'"
   ]
  },
  {
   "cell_type": "code",
   "execution_count": 42,
   "id": "fc71e23e-954e-40b5-a670-e2c4da2df72c",
   "metadata": {},
   "outputs": [],
   "source": [
    "d[3] = '234234'"
   ]
  },
  {
   "cell_type": "code",
   "execution_count": 43,
   "id": "db8cd593-2843-4678-af42-324911d90b2c",
   "metadata": {},
   "outputs": [
    {
     "data": {
      "text/plain": [
       "{5: 'asdf', 3: '234234'}"
      ]
     },
     "execution_count": 43,
     "metadata": {},
     "output_type": "execute_result"
    }
   ],
   "source": [
    "d"
   ]
  },
  {
   "cell_type": "code",
   "execution_count": 45,
   "id": "a427db51-57ba-49cd-acfe-07ae95c77821",
   "metadata": {},
   "outputs": [
    {
     "ename": "AttributeError",
     "evalue": "'list' object has no attribute 'subtract'",
     "output_type": "error",
     "traceback": [
      "\u001b[0;31m---------------------------------------------------------------------------\u001b[0m",
      "\u001b[0;31mAttributeError\u001b[0m                            Traceback (most recent call last)",
      "Input \u001b[0;32mIn [45]\u001b[0m, in \u001b[0;36m<cell line: 3>\u001b[0;34m()\u001b[0m\n\u001b[1;32m      1\u001b[0m first \u001b[38;5;241m=\u001b[39m [\u001b[38;5;124m'\u001b[39m\u001b[38;5;124ma\u001b[39m\u001b[38;5;124m'\u001b[39m, \u001b[38;5;124m'\u001b[39m\u001b[38;5;124mb\u001b[39m\u001b[38;5;124m'\u001b[39m, \u001b[38;5;124m'\u001b[39m\u001b[38;5;124mc\u001b[39m\u001b[38;5;124m'\u001b[39m]\n\u001b[1;32m      2\u001b[0m second \u001b[38;5;241m=\u001b[39m [\u001b[38;5;124m'\u001b[39m\u001b[38;5;124ma\u001b[39m\u001b[38;5;124m'\u001b[39m, \u001b[38;5;124m'\u001b[39m\u001b[38;5;124mb\u001b[39m\u001b[38;5;124m'\u001b[39m, \u001b[38;5;124m'\u001b[39m\u001b[38;5;124mb\u001b[39m\u001b[38;5;124m'\u001b[39m, \u001b[38;5;124m'\u001b[39m\u001b[38;5;124mc\u001b[39m\u001b[38;5;124m'\u001b[39m, \u001b[38;5;124m'\u001b[39m\u001b[38;5;124md\u001b[39m\u001b[38;5;124m'\u001b[39m, \u001b[38;5;124m'\u001b[39m\u001b[38;5;124mz\u001b[39m\u001b[38;5;124m'\u001b[39m]\n\u001b[0;32m----> 3\u001b[0m \u001b[38;5;28mprint\u001b[39m(\u001b[43mfirst\u001b[49m\u001b[38;5;241;43m.\u001b[39;49m\u001b[43msubtract\u001b[49m(second))\n\u001b[1;32m      4\u001b[0m \u001b[38;5;28mprint\u001b[39m(second \u001b[38;5;241m-\u001b[39m first)\n",
      "\u001b[0;31mAttributeError\u001b[0m: 'list' object has no attribute 'subtract'"
     ]
    }
   ],
   "source": [
    "first = ['a', 'b', 'c']\n",
    "second = ['a', 'b', 'b', 'c', 'd', 'z']\n"
   ]
  },
  {
   "cell_type": "code",
   "execution_count": null,
   "id": "7b103158-e31d-48aa-bbe0-f91575f8ecaf",
   "metadata": {},
   "outputs": [],
   "source": []
  }
 ],
 "metadata": {
  "kernelspec": {
   "display_name": "Python 3 (ipykernel)",
   "language": "python",
   "name": "python3"
  },
  "language_info": {
   "codemirror_mode": {
    "name": "ipython",
    "version": 3
   },
   "file_extension": ".py",
   "mimetype": "text/x-python",
   "name": "python",
   "nbconvert_exporter": "python",
   "pygments_lexer": "ipython3",
   "version": "3.8.10"
  }
 },
 "nbformat": 4,
 "nbformat_minor": 5
}
